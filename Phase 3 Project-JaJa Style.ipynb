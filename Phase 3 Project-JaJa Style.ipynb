{
 "cells": [
  {
   "cell_type": "markdown",
   "metadata": {},
   "source": [
    "# START"
   ]
  },
  {
   "cell_type": "markdown",
   "metadata": {},
   "source": [
    "## Data Cleaning"
   ]
  },
  {
   "cell_type": "markdown",
   "metadata": {},
   "source": [
    "### Imports"
   ]
  },
  {
   "cell_type": "code",
   "execution_count": 1,
   "metadata": {},
   "outputs": [],
   "source": [
    "import numpy as np\n",
    "import pandas as pd\n",
    "import xlrd\n",
    "import os\n",
    "import seaborn as sns\n",
    "from sklearn.model_selection import train_test_split, GridSearchCV,\\\n",
    "cross_val_score, RandomizedSearchCV\n",
    "from sklearn.linear_model import LogisticRegression\n",
    "from sklearn.neighbors import KNeighborsClassifier\n",
    "from sklearn.tree import DecisionTreeClassifier\n",
    "from sklearn.ensemble import BaggingClassifier, RandomForestClassifier,\\\n",
    "ExtraTreesClassifier, VotingClassifier, StackingRegressor\n",
    "from sklearn.metrics import r2_score\n",
    "from sklearn.preprocessing import OneHotEncoder, StandardScaler\n",
    "from sklearn.impute import SimpleImputer\n",
    "from sklearn.linear_model import LinearRegression\n",
    "from sklearn.neighbors import KNeighborsRegressor\n",
    "from sklearn.tree import DecisionTreeRegressor\n",
    "from sklearn.metrics import accuracy_score\n",
    "from sklearn.pipeline import Pipeline\n",
    "from sklearn.compose import ColumnTransformer\n",
    "from sklearn.metrics import accuracy_score, recall_score, precision_score, f1_score, classification_report"
   ]
  },
  {
   "cell_type": "code",
   "execution_count": 2,
   "metadata": {
    "scrolled": true
   },
   "outputs": [
    {
     "name": "stderr",
     "output_type": "stream",
     "text": [
      "/Users/javm/opt/anaconda3/envs/learn-env/lib/python3.8/site-packages/IPython/core/interactiveshell.py:3145: DtypeWarning: Columns (19,21,40,41,42,44,48,49,50,53,55,58,59,61,71) have mixed types.Specify dtype option on import or set low_memory=False.\n",
      "  has_raised = await self.run_ast_nodes(code_ast.body, cell_name,\n"
     ]
    }
   ],
   "source": [
    "crash_data = pd.read_csv('/Users/javm/Desktop/Flatiron3/Traffic_Crashes_-_Vehicles.csv')"
   ]
  },
  {
   "cell_type": "code",
   "execution_count": 3,
   "metadata": {
    "scrolled": true
   },
   "outputs": [
    {
     "data": {
      "text/html": [
       "<div>\n",
       "<style scoped>\n",
       "    .dataframe tbody tr th:only-of-type {\n",
       "        vertical-align: middle;\n",
       "    }\n",
       "\n",
       "    .dataframe tbody tr th {\n",
       "        vertical-align: top;\n",
       "    }\n",
       "\n",
       "    .dataframe thead th {\n",
       "        text-align: right;\n",
       "    }\n",
       "</style>\n",
       "<table border=\"1\" class=\"dataframe\">\n",
       "  <thead>\n",
       "    <tr style=\"text-align: right;\">\n",
       "      <th></th>\n",
       "      <th>CRASH_UNIT_ID</th>\n",
       "      <th>CRASH_RECORD_ID</th>\n",
       "      <th>RD_NO</th>\n",
       "      <th>CRASH_DATE</th>\n",
       "      <th>UNIT_NO</th>\n",
       "      <th>UNIT_TYPE</th>\n",
       "      <th>NUM_PASSENGERS</th>\n",
       "      <th>VEHICLE_ID</th>\n",
       "      <th>CMRC_VEH_I</th>\n",
       "      <th>MAKE</th>\n",
       "      <th>...</th>\n",
       "      <th>TRAILER1_LENGTH</th>\n",
       "      <th>TRAILER2_LENGTH</th>\n",
       "      <th>TOTAL_VEHICLE_LENGTH</th>\n",
       "      <th>AXLE_CNT</th>\n",
       "      <th>VEHICLE_CONFIG</th>\n",
       "      <th>CARGO_BODY_TYPE</th>\n",
       "      <th>LOAD_TYPE</th>\n",
       "      <th>HAZMAT_OUT_OF_SERVICE_I</th>\n",
       "      <th>MCS_OUT_OF_SERVICE_I</th>\n",
       "      <th>HAZMAT_CLASS</th>\n",
       "    </tr>\n",
       "  </thead>\n",
       "  <tbody>\n",
       "    <tr>\n",
       "      <th>0</th>\n",
       "      <td>829999</td>\n",
       "      <td>24ddf9fd8542199d832e1c223cc474e5601b356f1d77a6...</td>\n",
       "      <td>JD124535</td>\n",
       "      <td>01/22/2020 06:25:00 AM</td>\n",
       "      <td>1</td>\n",
       "      <td>DRIVER</td>\n",
       "      <td>NaN</td>\n",
       "      <td>796949.0</td>\n",
       "      <td>NaN</td>\n",
       "      <td>INFINITI</td>\n",
       "      <td>...</td>\n",
       "      <td>NaN</td>\n",
       "      <td>NaN</td>\n",
       "      <td>NaN</td>\n",
       "      <td>NaN</td>\n",
       "      <td>NaN</td>\n",
       "      <td>NaN</td>\n",
       "      <td>NaN</td>\n",
       "      <td>NaN</td>\n",
       "      <td>NaN</td>\n",
       "      <td>NaN</td>\n",
       "    </tr>\n",
       "    <tr>\n",
       "      <th>1</th>\n",
       "      <td>749947</td>\n",
       "      <td>81dc0de2ed92aa62baccab641fa377be7feb1cc47e6554...</td>\n",
       "      <td>JC451435</td>\n",
       "      <td>09/28/2019 03:30:00 AM</td>\n",
       "      <td>1</td>\n",
       "      <td>DRIVER</td>\n",
       "      <td>NaN</td>\n",
       "      <td>834816.0</td>\n",
       "      <td>NaN</td>\n",
       "      <td>HONDA</td>\n",
       "      <td>...</td>\n",
       "      <td>NaN</td>\n",
       "      <td>NaN</td>\n",
       "      <td>NaN</td>\n",
       "      <td>NaN</td>\n",
       "      <td>NaN</td>\n",
       "      <td>NaN</td>\n",
       "      <td>NaN</td>\n",
       "      <td>NaN</td>\n",
       "      <td>NaN</td>\n",
       "      <td>NaN</td>\n",
       "    </tr>\n",
       "    <tr>\n",
       "      <th>2</th>\n",
       "      <td>749949</td>\n",
       "      <td>81dc0de2ed92aa62baccab641fa377be7feb1cc47e6554...</td>\n",
       "      <td>JC451435</td>\n",
       "      <td>09/28/2019 03:30:00 AM</td>\n",
       "      <td>2</td>\n",
       "      <td>PARKED</td>\n",
       "      <td>NaN</td>\n",
       "      <td>834819.0</td>\n",
       "      <td>NaN</td>\n",
       "      <td>TOYOTA</td>\n",
       "      <td>...</td>\n",
       "      <td>NaN</td>\n",
       "      <td>NaN</td>\n",
       "      <td>NaN</td>\n",
       "      <td>NaN</td>\n",
       "      <td>NaN</td>\n",
       "      <td>NaN</td>\n",
       "      <td>NaN</td>\n",
       "      <td>NaN</td>\n",
       "      <td>NaN</td>\n",
       "      <td>NaN</td>\n",
       "    </tr>\n",
       "    <tr>\n",
       "      <th>3</th>\n",
       "      <td>749950</td>\n",
       "      <td>81dc0de2ed92aa62baccab641fa377be7feb1cc47e6554...</td>\n",
       "      <td>JC451435</td>\n",
       "      <td>09/28/2019 03:30:00 AM</td>\n",
       "      <td>3</td>\n",
       "      <td>PARKED</td>\n",
       "      <td>NaN</td>\n",
       "      <td>834817.0</td>\n",
       "      <td>NaN</td>\n",
       "      <td>GENERAL MOTORS CORPORATION (GMC)</td>\n",
       "      <td>...</td>\n",
       "      <td>NaN</td>\n",
       "      <td>NaN</td>\n",
       "      <td>NaN</td>\n",
       "      <td>NaN</td>\n",
       "      <td>NaN</td>\n",
       "      <td>NaN</td>\n",
       "      <td>NaN</td>\n",
       "      <td>NaN</td>\n",
       "      <td>NaN</td>\n",
       "      <td>NaN</td>\n",
       "    </tr>\n",
       "    <tr>\n",
       "      <th>4</th>\n",
       "      <td>871921</td>\n",
       "      <td>af84fb5c8d996fcd3aefd36593c3a02e6e7509eeb27568...</td>\n",
       "      <td>JD208731</td>\n",
       "      <td>04/13/2020 10:50:00 PM</td>\n",
       "      <td>2</td>\n",
       "      <td>DRIVER</td>\n",
       "      <td>NaN</td>\n",
       "      <td>827212.0</td>\n",
       "      <td>NaN</td>\n",
       "      <td>BUICK</td>\n",
       "      <td>...</td>\n",
       "      <td>NaN</td>\n",
       "      <td>NaN</td>\n",
       "      <td>NaN</td>\n",
       "      <td>NaN</td>\n",
       "      <td>NaN</td>\n",
       "      <td>NaN</td>\n",
       "      <td>NaN</td>\n",
       "      <td>NaN</td>\n",
       "      <td>NaN</td>\n",
       "      <td>NaN</td>\n",
       "    </tr>\n",
       "    <tr>\n",
       "      <th>...</th>\n",
       "      <td>...</td>\n",
       "      <td>...</td>\n",
       "      <td>...</td>\n",
       "      <td>...</td>\n",
       "      <td>...</td>\n",
       "      <td>...</td>\n",
       "      <td>...</td>\n",
       "      <td>...</td>\n",
       "      <td>...</td>\n",
       "      <td>...</td>\n",
       "      <td>...</td>\n",
       "      <td>...</td>\n",
       "      <td>...</td>\n",
       "      <td>...</td>\n",
       "      <td>...</td>\n",
       "      <td>...</td>\n",
       "      <td>...</td>\n",
       "      <td>...</td>\n",
       "      <td>...</td>\n",
       "      <td>...</td>\n",
       "      <td>...</td>\n",
       "    </tr>\n",
       "    <tr>\n",
       "      <th>1337842</th>\n",
       "      <td>1428903</td>\n",
       "      <td>95bd4beb3fc74537b067a74e5fa3d3751e5d9b85366b70...</td>\n",
       "      <td>JF413122</td>\n",
       "      <td>09/17/2022 04:00:00 PM</td>\n",
       "      <td>2</td>\n",
       "      <td>DRIVER</td>\n",
       "      <td>NaN</td>\n",
       "      <td>1357945.0</td>\n",
       "      <td>NaN</td>\n",
       "      <td>HYUNDAI</td>\n",
       "      <td>...</td>\n",
       "      <td>NaN</td>\n",
       "      <td>NaN</td>\n",
       "      <td>NaN</td>\n",
       "      <td>NaN</td>\n",
       "      <td>NaN</td>\n",
       "      <td>NaN</td>\n",
       "      <td>NaN</td>\n",
       "      <td>NaN</td>\n",
       "      <td>NaN</td>\n",
       "      <td>NaN</td>\n",
       "    </tr>\n",
       "    <tr>\n",
       "      <th>1337843</th>\n",
       "      <td>1428950</td>\n",
       "      <td>7330fac3b7ff58a70385bbc486f1b29b84bdf980f3b7f5...</td>\n",
       "      <td>JF413209</td>\n",
       "      <td>09/17/2022 06:30:00 AM</td>\n",
       "      <td>1</td>\n",
       "      <td>DRIVER</td>\n",
       "      <td>NaN</td>\n",
       "      <td>1358003.0</td>\n",
       "      <td>NaN</td>\n",
       "      <td>FORD</td>\n",
       "      <td>...</td>\n",
       "      <td>NaN</td>\n",
       "      <td>NaN</td>\n",
       "      <td>NaN</td>\n",
       "      <td>NaN</td>\n",
       "      <td>NaN</td>\n",
       "      <td>NaN</td>\n",
       "      <td>NaN</td>\n",
       "      <td>NaN</td>\n",
       "      <td>NaN</td>\n",
       "      <td>NaN</td>\n",
       "    </tr>\n",
       "    <tr>\n",
       "      <th>1337844</th>\n",
       "      <td>1428951</td>\n",
       "      <td>7330fac3b7ff58a70385bbc486f1b29b84bdf980f3b7f5...</td>\n",
       "      <td>JF413209</td>\n",
       "      <td>09/17/2022 06:30:00 AM</td>\n",
       "      <td>2</td>\n",
       "      <td>PARKED</td>\n",
       "      <td>NaN</td>\n",
       "      <td>1358007.0</td>\n",
       "      <td>NaN</td>\n",
       "      <td>JEEP</td>\n",
       "      <td>...</td>\n",
       "      <td>NaN</td>\n",
       "      <td>NaN</td>\n",
       "      <td>NaN</td>\n",
       "      <td>NaN</td>\n",
       "      <td>NaN</td>\n",
       "      <td>NaN</td>\n",
       "      <td>NaN</td>\n",
       "      <td>NaN</td>\n",
       "      <td>NaN</td>\n",
       "      <td>NaN</td>\n",
       "    </tr>\n",
       "    <tr>\n",
       "      <th>1337845</th>\n",
       "      <td>1429660</td>\n",
       "      <td>9508aefdb2b41844fa8ba879d3089365f910868b5f30cd...</td>\n",
       "      <td>JF402263</td>\n",
       "      <td>09/17/2022 01:30:00 AM</td>\n",
       "      <td>1</td>\n",
       "      <td>DRIVER</td>\n",
       "      <td>NaN</td>\n",
       "      <td>1358680.0</td>\n",
       "      <td>NaN</td>\n",
       "      <td>JEEP</td>\n",
       "      <td>...</td>\n",
       "      <td>NaN</td>\n",
       "      <td>NaN</td>\n",
       "      <td>NaN</td>\n",
       "      <td>NaN</td>\n",
       "      <td>NaN</td>\n",
       "      <td>NaN</td>\n",
       "      <td>NaN</td>\n",
       "      <td>NaN</td>\n",
       "      <td>NaN</td>\n",
       "      <td>NaN</td>\n",
       "    </tr>\n",
       "    <tr>\n",
       "      <th>1337846</th>\n",
       "      <td>1429661</td>\n",
       "      <td>9508aefdb2b41844fa8ba879d3089365f910868b5f30cd...</td>\n",
       "      <td>JF402263</td>\n",
       "      <td>09/17/2022 01:30:00 AM</td>\n",
       "      <td>2</td>\n",
       "      <td>DRIVER</td>\n",
       "      <td>1.0</td>\n",
       "      <td>1358681.0</td>\n",
       "      <td>NaN</td>\n",
       "      <td>CHEVROLET</td>\n",
       "      <td>...</td>\n",
       "      <td>NaN</td>\n",
       "      <td>NaN</td>\n",
       "      <td>NaN</td>\n",
       "      <td>NaN</td>\n",
       "      <td>NaN</td>\n",
       "      <td>NaN</td>\n",
       "      <td>NaN</td>\n",
       "      <td>NaN</td>\n",
       "      <td>NaN</td>\n",
       "      <td>NaN</td>\n",
       "    </tr>\n",
       "  </tbody>\n",
       "</table>\n",
       "<p>1337847 rows × 72 columns</p>\n",
       "</div>"
      ],
      "text/plain": [
       "         CRASH_UNIT_ID                                    CRASH_RECORD_ID  \\\n",
       "0               829999  24ddf9fd8542199d832e1c223cc474e5601b356f1d77a6...   \n",
       "1               749947  81dc0de2ed92aa62baccab641fa377be7feb1cc47e6554...   \n",
       "2               749949  81dc0de2ed92aa62baccab641fa377be7feb1cc47e6554...   \n",
       "3               749950  81dc0de2ed92aa62baccab641fa377be7feb1cc47e6554...   \n",
       "4               871921  af84fb5c8d996fcd3aefd36593c3a02e6e7509eeb27568...   \n",
       "...                ...                                                ...   \n",
       "1337842        1428903  95bd4beb3fc74537b067a74e5fa3d3751e5d9b85366b70...   \n",
       "1337843        1428950  7330fac3b7ff58a70385bbc486f1b29b84bdf980f3b7f5...   \n",
       "1337844        1428951  7330fac3b7ff58a70385bbc486f1b29b84bdf980f3b7f5...   \n",
       "1337845        1429660  9508aefdb2b41844fa8ba879d3089365f910868b5f30cd...   \n",
       "1337846        1429661  9508aefdb2b41844fa8ba879d3089365f910868b5f30cd...   \n",
       "\n",
       "            RD_NO              CRASH_DATE  UNIT_NO UNIT_TYPE  NUM_PASSENGERS  \\\n",
       "0        JD124535  01/22/2020 06:25:00 AM        1    DRIVER             NaN   \n",
       "1        JC451435  09/28/2019 03:30:00 AM        1    DRIVER             NaN   \n",
       "2        JC451435  09/28/2019 03:30:00 AM        2    PARKED             NaN   \n",
       "3        JC451435  09/28/2019 03:30:00 AM        3    PARKED             NaN   \n",
       "4        JD208731  04/13/2020 10:50:00 PM        2    DRIVER             NaN   \n",
       "...           ...                     ...      ...       ...             ...   \n",
       "1337842  JF413122  09/17/2022 04:00:00 PM        2    DRIVER             NaN   \n",
       "1337843  JF413209  09/17/2022 06:30:00 AM        1    DRIVER             NaN   \n",
       "1337844  JF413209  09/17/2022 06:30:00 AM        2    PARKED             NaN   \n",
       "1337845  JF402263  09/17/2022 01:30:00 AM        1    DRIVER             NaN   \n",
       "1337846  JF402263  09/17/2022 01:30:00 AM        2    DRIVER             1.0   \n",
       "\n",
       "         VEHICLE_ID CMRC_VEH_I                              MAKE  ...  \\\n",
       "0          796949.0        NaN                          INFINITI  ...   \n",
       "1          834816.0        NaN                             HONDA  ...   \n",
       "2          834819.0        NaN                            TOYOTA  ...   \n",
       "3          834817.0        NaN  GENERAL MOTORS CORPORATION (GMC)  ...   \n",
       "4          827212.0        NaN                             BUICK  ...   \n",
       "...             ...        ...                               ...  ...   \n",
       "1337842   1357945.0        NaN                           HYUNDAI  ...   \n",
       "1337843   1358003.0        NaN                              FORD  ...   \n",
       "1337844   1358007.0        NaN                              JEEP  ...   \n",
       "1337845   1358680.0        NaN                              JEEP  ...   \n",
       "1337846   1358681.0        NaN                         CHEVROLET  ...   \n",
       "\n",
       "        TRAILER1_LENGTH TRAILER2_LENGTH  TOTAL_VEHICLE_LENGTH AXLE_CNT  \\\n",
       "0                   NaN             NaN                   NaN      NaN   \n",
       "1                   NaN             NaN                   NaN      NaN   \n",
       "2                   NaN             NaN                   NaN      NaN   \n",
       "3                   NaN             NaN                   NaN      NaN   \n",
       "4                   NaN             NaN                   NaN      NaN   \n",
       "...                 ...             ...                   ...      ...   \n",
       "1337842             NaN             NaN                   NaN      NaN   \n",
       "1337843             NaN             NaN                   NaN      NaN   \n",
       "1337844             NaN             NaN                   NaN      NaN   \n",
       "1337845             NaN             NaN                   NaN      NaN   \n",
       "1337846             NaN             NaN                   NaN      NaN   \n",
       "\n",
       "        VEHICLE_CONFIG CARGO_BODY_TYPE LOAD_TYPE HAZMAT_OUT_OF_SERVICE_I  \\\n",
       "0                  NaN             NaN       NaN                     NaN   \n",
       "1                  NaN             NaN       NaN                     NaN   \n",
       "2                  NaN             NaN       NaN                     NaN   \n",
       "3                  NaN             NaN       NaN                     NaN   \n",
       "4                  NaN             NaN       NaN                     NaN   \n",
       "...                ...             ...       ...                     ...   \n",
       "1337842            NaN             NaN       NaN                     NaN   \n",
       "1337843            NaN             NaN       NaN                     NaN   \n",
       "1337844            NaN             NaN       NaN                     NaN   \n",
       "1337845            NaN             NaN       NaN                     NaN   \n",
       "1337846            NaN             NaN       NaN                     NaN   \n",
       "\n",
       "        MCS_OUT_OF_SERVICE_I HAZMAT_CLASS  \n",
       "0                        NaN          NaN  \n",
       "1                        NaN          NaN  \n",
       "2                        NaN          NaN  \n",
       "3                        NaN          NaN  \n",
       "4                        NaN          NaN  \n",
       "...                      ...          ...  \n",
       "1337842                  NaN          NaN  \n",
       "1337843                  NaN          NaN  \n",
       "1337844                  NaN          NaN  \n",
       "1337845                  NaN          NaN  \n",
       "1337846                  NaN          NaN  \n",
       "\n",
       "[1337847 rows x 72 columns]"
      ]
     },
     "execution_count": 3,
     "metadata": {},
     "output_type": "execute_result"
    }
   ],
   "source": [
    "crash_data"
   ]
  },
  {
   "cell_type": "code",
   "execution_count": 4,
   "metadata": {},
   "outputs": [
    {
     "name": "stdout",
     "output_type": "stream",
     "text": [
      "<class 'pandas.core.frame.DataFrame'>\n",
      "RangeIndex: 1337847 entries, 0 to 1337846\n",
      "Data columns (total 72 columns):\n",
      " #   Column                    Non-Null Count    Dtype  \n",
      "---  ------                    --------------    -----  \n",
      " 0   CRASH_UNIT_ID             1337847 non-null  int64  \n",
      " 1   CRASH_RECORD_ID           1337847 non-null  object \n",
      " 2   RD_NO                     1328848 non-null  object \n",
      " 3   CRASH_DATE                1337847 non-null  object \n",
      " 4   UNIT_NO                   1337847 non-null  int64  \n",
      " 5   UNIT_TYPE                 1335974 non-null  object \n",
      " 6   NUM_PASSENGERS            198761 non-null   float64\n",
      " 7   VEHICLE_ID                1307500 non-null  float64\n",
      " 8   CMRC_VEH_I                24967 non-null    object \n",
      " 9   MAKE                      1307495 non-null  object \n",
      " 10  MODEL                     1307351 non-null  object \n",
      " 11  LIC_PLATE_STATE           1189340 non-null  object \n",
      " 12  VEHICLE_YEAR              1094573 non-null  float64\n",
      " 13  VEHICLE_DEFECT            1307500 non-null  object \n",
      " 14  VEHICLE_TYPE              1307500 non-null  object \n",
      " 15  VEHICLE_USE               1307500 non-null  object \n",
      " 16  TRAVEL_DIRECTION          1307500 non-null  object \n",
      " 17  MANEUVER                  1307500 non-null  object \n",
      " 18  TOWED_I                   162403 non-null   object \n",
      " 19  FIRE_I                    1063 non-null     object \n",
      " 20  OCCUPANT_CNT              1307500 non-null  float64\n",
      " 21  EXCEED_SPEED_LIMIT_I      2397 non-null     object \n",
      " 22  TOWED_BY                  120813 non-null   object \n",
      " 23  TOWED_TO                  74327 non-null    object \n",
      " 24  AREA_00_I                 47971 non-null    object \n",
      " 25  AREA_01_I                 352468 non-null   object \n",
      " 26  AREA_02_I                 216852 non-null   object \n",
      " 27  AREA_03_I                 126962 non-null   object \n",
      " 28  AREA_04_I                 129045 non-null   object \n",
      " 29  AREA_05_I                 199567 non-null   object \n",
      " 30  AREA_06_I                 206642 non-null   object \n",
      " 31  AREA_07_I                 185723 non-null   object \n",
      " 32  AREA_08_I                 202827 non-null   object \n",
      " 33  AREA_09_I                 77105 non-null    object \n",
      " 34  AREA_10_I                 111179 non-null   object \n",
      " 35  AREA_11_I                 217937 non-null   object \n",
      " 36  AREA_12_I                 214562 non-null   object \n",
      " 37  AREA_99_I                 147113 non-null   object \n",
      " 38  FIRST_CONTACT_POINT       1295982 non-null  object \n",
      " 39  CMV_ID                    14061 non-null    float64\n",
      " 40  USDOT_NO                  8057 non-null     object \n",
      " 41  CCMC_NO                   1758 non-null     object \n",
      " 42  ILCC_NO                   1231 non-null     object \n",
      " 43  COMMERCIAL_SRC            9566 non-null     object \n",
      " 44  GVWR                      7999 non-null     object \n",
      " 45  CARRIER_NAME              13451 non-null    object \n",
      " 46  CARRIER_STATE             12665 non-null    object \n",
      " 47  CARRIER_CITY              12444 non-null    object \n",
      " 48  HAZMAT_PLACARDS_I         276 non-null      object \n",
      " 49  HAZMAT_NAME               51 non-null       object \n",
      " 50  UN_NO                     489 non-null      object \n",
      " 51  HAZMAT_PRESENT_I          10298 non-null    object \n",
      " 52  HAZMAT_REPORT_I           9988 non-null     object \n",
      " 53  HAZMAT_REPORT_NO          1 non-null        object \n",
      " 54  MCS_REPORT_I              10049 non-null    object \n",
      " 55  MCS_REPORT_NO             6 non-null        object \n",
      " 56  HAZMAT_VIO_CAUSE_CRASH_I  10146 non-null    object \n",
      " 57  MCS_VIO_CAUSE_CRASH_I     9959 non-null     object \n",
      " 58  IDOT_PERMIT_NO            793 non-null      object \n",
      " 59  WIDE_LOAD_I               123 non-null      object \n",
      " 60  TRAILER1_WIDTH            2586 non-null     object \n",
      " 61  TRAILER2_WIDTH            305 non-null      object \n",
      " 62  TRAILER1_LENGTH           2124 non-null     float64\n",
      " 63  TRAILER2_LENGTH           60 non-null       float64\n",
      " 64  TOTAL_VEHICLE_LENGTH      2577 non-null     float64\n",
      " 65  AXLE_CNT                  3790 non-null     float64\n",
      " 66  VEHICLE_CONFIG            11664 non-null    object \n",
      " 67  CARGO_BODY_TYPE           11164 non-null    object \n",
      " 68  LOAD_TYPE                 10671 non-null    object \n",
      " 69  HAZMAT_OUT_OF_SERVICE_I   9689 non-null     object \n",
      " 70  MCS_OUT_OF_SERVICE_I      9935 non-null     object \n",
      " 71  HAZMAT_CLASS              939 non-null      object \n",
      "dtypes: float64(9), int64(2), object(61)\n",
      "memory usage: 734.9+ MB\n"
     ]
    }
   ],
   "source": [
    "crash_data.info()"
   ]
  },
  {
   "cell_type": "code",
   "execution_count": 7,
   "metadata": {
    "scrolled": true
   },
   "outputs": [
    {
     "name": "stderr",
     "output_type": "stream",
     "text": [
      "/Users/javm/opt/anaconda3/envs/learn-env/lib/python3.8/site-packages/IPython/core/interactiveshell.py:3145: DtypeWarning: Columns (20,24,25,26,29) have mixed types.Specify dtype option on import or set low_memory=False.\n",
      "  has_raised = await self.run_ast_nodes(code_ast.body, cell_name,\n"
     ]
    },
    {
     "data": {
      "text/html": [
       "<div>\n",
       "<style scoped>\n",
       "    .dataframe tbody tr th:only-of-type {\n",
       "        vertical-align: middle;\n",
       "    }\n",
       "\n",
       "    .dataframe tbody tr th {\n",
       "        vertical-align: top;\n",
       "    }\n",
       "\n",
       "    .dataframe thead th {\n",
       "        text-align: right;\n",
       "    }\n",
       "</style>\n",
       "<table border=\"1\" class=\"dataframe\">\n",
       "  <thead>\n",
       "    <tr style=\"text-align: right;\">\n",
       "      <th></th>\n",
       "      <th>PERSON_ID</th>\n",
       "      <th>PERSON_TYPE</th>\n",
       "      <th>CRASH_RECORD_ID</th>\n",
       "      <th>RD_NO</th>\n",
       "      <th>VEHICLE_ID</th>\n",
       "      <th>CRASH_DATE</th>\n",
       "      <th>SEAT_NO</th>\n",
       "      <th>CITY</th>\n",
       "      <th>STATE</th>\n",
       "      <th>ZIPCODE</th>\n",
       "      <th>...</th>\n",
       "      <th>EMS_RUN_NO</th>\n",
       "      <th>DRIVER_ACTION</th>\n",
       "      <th>DRIVER_VISION</th>\n",
       "      <th>PHYSICAL_CONDITION</th>\n",
       "      <th>PEDPEDAL_ACTION</th>\n",
       "      <th>PEDPEDAL_VISIBILITY</th>\n",
       "      <th>PEDPEDAL_LOCATION</th>\n",
       "      <th>BAC_RESULT</th>\n",
       "      <th>BAC_RESULT VALUE</th>\n",
       "      <th>CELL_PHONE_USE</th>\n",
       "    </tr>\n",
       "  </thead>\n",
       "  <tbody>\n",
       "    <tr>\n",
       "      <th>0</th>\n",
       "      <td>O749947</td>\n",
       "      <td>DRIVER</td>\n",
       "      <td>81dc0de2ed92aa62baccab641fa377be7feb1cc47e6554...</td>\n",
       "      <td>JC451435</td>\n",
       "      <td>834816.0</td>\n",
       "      <td>09/28/2019 03:30:00 AM</td>\n",
       "      <td>NaN</td>\n",
       "      <td>CHICAGO</td>\n",
       "      <td>IL</td>\n",
       "      <td>60651</td>\n",
       "      <td>...</td>\n",
       "      <td>NaN</td>\n",
       "      <td>UNKNOWN</td>\n",
       "      <td>UNKNOWN</td>\n",
       "      <td>UNKNOWN</td>\n",
       "      <td>NaN</td>\n",
       "      <td>NaN</td>\n",
       "      <td>NaN</td>\n",
       "      <td>TEST NOT OFFERED</td>\n",
       "      <td>NaN</td>\n",
       "      <td>NaN</td>\n",
       "    </tr>\n",
       "    <tr>\n",
       "      <th>1</th>\n",
       "      <td>O871921</td>\n",
       "      <td>DRIVER</td>\n",
       "      <td>af84fb5c8d996fcd3aefd36593c3a02e6e7509eeb27568...</td>\n",
       "      <td>JD208731</td>\n",
       "      <td>827212.0</td>\n",
       "      <td>04/13/2020 10:50:00 PM</td>\n",
       "      <td>NaN</td>\n",
       "      <td>CHICAGO</td>\n",
       "      <td>IL</td>\n",
       "      <td>60620</td>\n",
       "      <td>...</td>\n",
       "      <td>NaN</td>\n",
       "      <td>NONE</td>\n",
       "      <td>NOT OBSCURED</td>\n",
       "      <td>NORMAL</td>\n",
       "      <td>NaN</td>\n",
       "      <td>NaN</td>\n",
       "      <td>NaN</td>\n",
       "      <td>TEST NOT OFFERED</td>\n",
       "      <td>NaN</td>\n",
       "      <td>NaN</td>\n",
       "    </tr>\n",
       "    <tr>\n",
       "      <th>2</th>\n",
       "      <td>O10018</td>\n",
       "      <td>DRIVER</td>\n",
       "      <td>71162af7bf22799b776547132ebf134b5b438dcf3dac6b...</td>\n",
       "      <td>HY484534</td>\n",
       "      <td>9579.0</td>\n",
       "      <td>11/01/2015 05:00:00 AM</td>\n",
       "      <td>NaN</td>\n",
       "      <td>NaN</td>\n",
       "      <td>NaN</td>\n",
       "      <td>NaN</td>\n",
       "      <td>...</td>\n",
       "      <td>NaN</td>\n",
       "      <td>IMPROPER BACKING</td>\n",
       "      <td>UNKNOWN</td>\n",
       "      <td>UNKNOWN</td>\n",
       "      <td>NaN</td>\n",
       "      <td>NaN</td>\n",
       "      <td>NaN</td>\n",
       "      <td>TEST NOT OFFERED</td>\n",
       "      <td>NaN</td>\n",
       "      <td>NaN</td>\n",
       "    </tr>\n",
       "    <tr>\n",
       "      <th>3</th>\n",
       "      <td>O10038</td>\n",
       "      <td>DRIVER</td>\n",
       "      <td>c21c476e2ccc41af550b5d858d22aaac4ffc88745a1700...</td>\n",
       "      <td>HY484750</td>\n",
       "      <td>9598.0</td>\n",
       "      <td>11/01/2015 08:00:00 AM</td>\n",
       "      <td>NaN</td>\n",
       "      <td>NaN</td>\n",
       "      <td>NaN</td>\n",
       "      <td>NaN</td>\n",
       "      <td>...</td>\n",
       "      <td>NaN</td>\n",
       "      <td>UNKNOWN</td>\n",
       "      <td>UNKNOWN</td>\n",
       "      <td>UNKNOWN</td>\n",
       "      <td>NaN</td>\n",
       "      <td>NaN</td>\n",
       "      <td>NaN</td>\n",
       "      <td>TEST NOT OFFERED</td>\n",
       "      <td>NaN</td>\n",
       "      <td>NaN</td>\n",
       "    </tr>\n",
       "    <tr>\n",
       "      <th>4</th>\n",
       "      <td>O10039</td>\n",
       "      <td>DRIVER</td>\n",
       "      <td>eb390a4c8e114c69488f5fb8a097fe629f5a92fd528cf4...</td>\n",
       "      <td>HY484778</td>\n",
       "      <td>9600.0</td>\n",
       "      <td>11/01/2015 10:15:00 AM</td>\n",
       "      <td>NaN</td>\n",
       "      <td>NaN</td>\n",
       "      <td>NaN</td>\n",
       "      <td>NaN</td>\n",
       "      <td>...</td>\n",
       "      <td>NaN</td>\n",
       "      <td>UNKNOWN</td>\n",
       "      <td>UNKNOWN</td>\n",
       "      <td>UNKNOWN</td>\n",
       "      <td>NaN</td>\n",
       "      <td>NaN</td>\n",
       "      <td>NaN</td>\n",
       "      <td>TEST NOT OFFERED</td>\n",
       "      <td>NaN</td>\n",
       "      <td>NaN</td>\n",
       "    </tr>\n",
       "    <tr>\n",
       "      <th>...</th>\n",
       "      <td>...</td>\n",
       "      <td>...</td>\n",
       "      <td>...</td>\n",
       "      <td>...</td>\n",
       "      <td>...</td>\n",
       "      <td>...</td>\n",
       "      <td>...</td>\n",
       "      <td>...</td>\n",
       "      <td>...</td>\n",
       "      <td>...</td>\n",
       "      <td>...</td>\n",
       "      <td>...</td>\n",
       "      <td>...</td>\n",
       "      <td>...</td>\n",
       "      <td>...</td>\n",
       "      <td>...</td>\n",
       "      <td>...</td>\n",
       "      <td>...</td>\n",
       "      <td>...</td>\n",
       "      <td>...</td>\n",
       "      <td>...</td>\n",
       "    </tr>\n",
       "    <tr>\n",
       "      <th>1440438</th>\n",
       "      <td>P316543</td>\n",
       "      <td>PASSENGER</td>\n",
       "      <td>0cf549b137f00c4c6a934aa900dc88694dbd24e560e250...</td>\n",
       "      <td>JF400046</td>\n",
       "      <td>1354784.0</td>\n",
       "      <td>09/17/2022 01:56:00 AM</td>\n",
       "      <td>3.0</td>\n",
       "      <td>NaN</td>\n",
       "      <td>NaN</td>\n",
       "      <td>NaN</td>\n",
       "      <td>...</td>\n",
       "      <td>NaN</td>\n",
       "      <td>NaN</td>\n",
       "      <td>NaN</td>\n",
       "      <td>NaN</td>\n",
       "      <td>NaN</td>\n",
       "      <td>NaN</td>\n",
       "      <td>NaN</td>\n",
       "      <td>NaN</td>\n",
       "      <td>NaN</td>\n",
       "      <td>NaN</td>\n",
       "    </tr>\n",
       "    <tr>\n",
       "      <th>1440439</th>\n",
       "      <td>P316652</td>\n",
       "      <td>PASSENGER</td>\n",
       "      <td>bc722673c24222d6860059d0e07ad3da22107cea44b84d...</td>\n",
       "      <td>JF408037</td>\n",
       "      <td>1355339.0</td>\n",
       "      <td>09/17/2022 12:48:00 AM</td>\n",
       "      <td>5.0</td>\n",
       "      <td>CHICAGO</td>\n",
       "      <td>IL</td>\n",
       "      <td>60651</td>\n",
       "      <td>...</td>\n",
       "      <td>NaN</td>\n",
       "      <td>NaN</td>\n",
       "      <td>NaN</td>\n",
       "      <td>NaN</td>\n",
       "      <td>NaN</td>\n",
       "      <td>NaN</td>\n",
       "      <td>NaN</td>\n",
       "      <td>NaN</td>\n",
       "      <td>NaN</td>\n",
       "      <td>NaN</td>\n",
       "    </tr>\n",
       "    <tr>\n",
       "      <th>1440440</th>\n",
       "      <td>P316770</td>\n",
       "      <td>PASSENGER</td>\n",
       "      <td>79d8ebaf30b5a1329ff256ac362025a420fe23cb46a4d1...</td>\n",
       "      <td>JF408754</td>\n",
       "      <td>1355718.0</td>\n",
       "      <td>09/17/2022 12:15:00 PM</td>\n",
       "      <td>2.0</td>\n",
       "      <td>CHICAGO</td>\n",
       "      <td>IL</td>\n",
       "      <td>60639</td>\n",
       "      <td>...</td>\n",
       "      <td>NaN</td>\n",
       "      <td>NaN</td>\n",
       "      <td>NaN</td>\n",
       "      <td>NaN</td>\n",
       "      <td>NaN</td>\n",
       "      <td>NaN</td>\n",
       "      <td>NaN</td>\n",
       "      <td>NaN</td>\n",
       "      <td>NaN</td>\n",
       "      <td>NaN</td>\n",
       "    </tr>\n",
       "    <tr>\n",
       "      <th>1440441</th>\n",
       "      <td>P317147</td>\n",
       "      <td>PASSENGER</td>\n",
       "      <td>c43c6b9ebd9eef456b5628f6d2509b72f394ff798f6298...</td>\n",
       "      <td>JF411682</td>\n",
       "      <td>1357251.0</td>\n",
       "      <td>09/17/2022 05:56:00 PM</td>\n",
       "      <td>3.0</td>\n",
       "      <td>NaN</td>\n",
       "      <td>NaN</td>\n",
       "      <td>NaN</td>\n",
       "      <td>...</td>\n",
       "      <td>NaN</td>\n",
       "      <td>NaN</td>\n",
       "      <td>NaN</td>\n",
       "      <td>NaN</td>\n",
       "      <td>NaN</td>\n",
       "      <td>NaN</td>\n",
       "      <td>NaN</td>\n",
       "      <td>NaN</td>\n",
       "      <td>NaN</td>\n",
       "      <td>NaN</td>\n",
       "    </tr>\n",
       "    <tr>\n",
       "      <th>1440442</th>\n",
       "      <td>P317416</td>\n",
       "      <td>PASSENGER</td>\n",
       "      <td>9508aefdb2b41844fa8ba879d3089365f910868b5f30cd...</td>\n",
       "      <td>JF402263</td>\n",
       "      <td>1358681.0</td>\n",
       "      <td>09/17/2022 01:30:00 AM</td>\n",
       "      <td>3.0</td>\n",
       "      <td>JOLIET</td>\n",
       "      <td>IL</td>\n",
       "      <td>60433</td>\n",
       "      <td>...</td>\n",
       "      <td>NaN</td>\n",
       "      <td>NaN</td>\n",
       "      <td>NaN</td>\n",
       "      <td>NaN</td>\n",
       "      <td>NaN</td>\n",
       "      <td>NaN</td>\n",
       "      <td>NaN</td>\n",
       "      <td>NaN</td>\n",
       "      <td>NaN</td>\n",
       "      <td>NaN</td>\n",
       "    </tr>\n",
       "  </tbody>\n",
       "</table>\n",
       "<p>1440443 rows × 30 columns</p>\n",
       "</div>"
      ],
      "text/plain": [
       "        PERSON_ID PERSON_TYPE  \\\n",
       "0         O749947      DRIVER   \n",
       "1         O871921      DRIVER   \n",
       "2          O10018      DRIVER   \n",
       "3          O10038      DRIVER   \n",
       "4          O10039      DRIVER   \n",
       "...           ...         ...   \n",
       "1440438   P316543   PASSENGER   \n",
       "1440439   P316652   PASSENGER   \n",
       "1440440   P316770   PASSENGER   \n",
       "1440441   P317147   PASSENGER   \n",
       "1440442   P317416   PASSENGER   \n",
       "\n",
       "                                           CRASH_RECORD_ID     RD_NO  \\\n",
       "0        81dc0de2ed92aa62baccab641fa377be7feb1cc47e6554...  JC451435   \n",
       "1        af84fb5c8d996fcd3aefd36593c3a02e6e7509eeb27568...  JD208731   \n",
       "2        71162af7bf22799b776547132ebf134b5b438dcf3dac6b...  HY484534   \n",
       "3        c21c476e2ccc41af550b5d858d22aaac4ffc88745a1700...  HY484750   \n",
       "4        eb390a4c8e114c69488f5fb8a097fe629f5a92fd528cf4...  HY484778   \n",
       "...                                                    ...       ...   \n",
       "1440438  0cf549b137f00c4c6a934aa900dc88694dbd24e560e250...  JF400046   \n",
       "1440439  bc722673c24222d6860059d0e07ad3da22107cea44b84d...  JF408037   \n",
       "1440440  79d8ebaf30b5a1329ff256ac362025a420fe23cb46a4d1...  JF408754   \n",
       "1440441  c43c6b9ebd9eef456b5628f6d2509b72f394ff798f6298...  JF411682   \n",
       "1440442  9508aefdb2b41844fa8ba879d3089365f910868b5f30cd...  JF402263   \n",
       "\n",
       "         VEHICLE_ID              CRASH_DATE  SEAT_NO     CITY STATE ZIPCODE  \\\n",
       "0          834816.0  09/28/2019 03:30:00 AM      NaN  CHICAGO    IL   60651   \n",
       "1          827212.0  04/13/2020 10:50:00 PM      NaN  CHICAGO    IL   60620   \n",
       "2            9579.0  11/01/2015 05:00:00 AM      NaN      NaN   NaN     NaN   \n",
       "3            9598.0  11/01/2015 08:00:00 AM      NaN      NaN   NaN     NaN   \n",
       "4            9600.0  11/01/2015 10:15:00 AM      NaN      NaN   NaN     NaN   \n",
       "...             ...                     ...      ...      ...   ...     ...   \n",
       "1440438   1354784.0  09/17/2022 01:56:00 AM      3.0      NaN   NaN     NaN   \n",
       "1440439   1355339.0  09/17/2022 12:48:00 AM      5.0  CHICAGO    IL   60651   \n",
       "1440440   1355718.0  09/17/2022 12:15:00 PM      2.0  CHICAGO    IL   60639   \n",
       "1440441   1357251.0  09/17/2022 05:56:00 PM      3.0      NaN   NaN     NaN   \n",
       "1440442   1358681.0  09/17/2022 01:30:00 AM      3.0   JOLIET    IL   60433   \n",
       "\n",
       "         ... EMS_RUN_NO     DRIVER_ACTION DRIVER_VISION PHYSICAL_CONDITION  \\\n",
       "0        ...        NaN           UNKNOWN       UNKNOWN            UNKNOWN   \n",
       "1        ...        NaN              NONE  NOT OBSCURED             NORMAL   \n",
       "2        ...        NaN  IMPROPER BACKING       UNKNOWN            UNKNOWN   \n",
       "3        ...        NaN           UNKNOWN       UNKNOWN            UNKNOWN   \n",
       "4        ...        NaN           UNKNOWN       UNKNOWN            UNKNOWN   \n",
       "...      ...        ...               ...           ...                ...   \n",
       "1440438  ...        NaN               NaN           NaN                NaN   \n",
       "1440439  ...        NaN               NaN           NaN                NaN   \n",
       "1440440  ...        NaN               NaN           NaN                NaN   \n",
       "1440441  ...        NaN               NaN           NaN                NaN   \n",
       "1440442  ...        NaN               NaN           NaN                NaN   \n",
       "\n",
       "        PEDPEDAL_ACTION PEDPEDAL_VISIBILITY PEDPEDAL_LOCATION  \\\n",
       "0                   NaN                 NaN               NaN   \n",
       "1                   NaN                 NaN               NaN   \n",
       "2                   NaN                 NaN               NaN   \n",
       "3                   NaN                 NaN               NaN   \n",
       "4                   NaN                 NaN               NaN   \n",
       "...                 ...                 ...               ...   \n",
       "1440438             NaN                 NaN               NaN   \n",
       "1440439             NaN                 NaN               NaN   \n",
       "1440440             NaN                 NaN               NaN   \n",
       "1440441             NaN                 NaN               NaN   \n",
       "1440442             NaN                 NaN               NaN   \n",
       "\n",
       "               BAC_RESULT BAC_RESULT VALUE CELL_PHONE_USE  \n",
       "0        TEST NOT OFFERED              NaN            NaN  \n",
       "1        TEST NOT OFFERED              NaN            NaN  \n",
       "2        TEST NOT OFFERED              NaN            NaN  \n",
       "3        TEST NOT OFFERED              NaN            NaN  \n",
       "4        TEST NOT OFFERED              NaN            NaN  \n",
       "...                   ...              ...            ...  \n",
       "1440438               NaN              NaN            NaN  \n",
       "1440439               NaN              NaN            NaN  \n",
       "1440440               NaN              NaN            NaN  \n",
       "1440441               NaN              NaN            NaN  \n",
       "1440442               NaN              NaN            NaN  \n",
       "\n",
       "[1440443 rows x 30 columns]"
      ]
     },
     "execution_count": 7,
     "metadata": {},
     "output_type": "execute_result"
    }
   ],
   "source": [
    "people_data = pd.read_csv('/Users/javm/Desktop/Flatiron3/Traffic_Crashes_-_People.csv')\n",
    "people_data"
   ]
  },
  {
   "cell_type": "code",
   "execution_count": 8,
   "metadata": {
    "scrolled": true
   },
   "outputs": [
    {
     "name": "stdout",
     "output_type": "stream",
     "text": [
      "<class 'pandas.core.frame.DataFrame'>\n",
      "RangeIndex: 1440443 entries, 0 to 1440442\n",
      "Data columns (total 30 columns):\n",
      " #   Column                 Non-Null Count    Dtype  \n",
      "---  ------                 --------------    -----  \n",
      " 0   PERSON_ID              1440443 non-null  object \n",
      " 1   PERSON_TYPE            1440443 non-null  object \n",
      " 2   CRASH_RECORD_ID        1440443 non-null  object \n",
      " 3   RD_NO                  1430723 non-null  object \n",
      " 4   VEHICLE_ID             1412112 non-null  float64\n",
      " 5   CRASH_DATE             1440443 non-null  object \n",
      " 6   SEAT_NO                292479 non-null   float64\n",
      " 7   CITY                   1053018 non-null  object \n",
      " 8   STATE                  1066676 non-null  object \n",
      " 9   ZIPCODE                962017 non-null   object \n",
      " 10  SEX                    1418152 non-null  object \n",
      " 11  AGE                    1022515 non-null  float64\n",
      " 12  DRIVERS_LICENSE_STATE  847046 non-null   object \n",
      " 13  DRIVERS_LICENSE_CLASS  719328 non-null   object \n",
      " 14  SAFETY_EQUIPMENT       1436344 non-null  object \n",
      " 15  AIRBAG_DEPLOYED        1413252 non-null  object \n",
      " 16  EJECTION               1423051 non-null  object \n",
      " 17  INJURY_CLASSIFICATION  1439810 non-null  object \n",
      " 18  HOSPITAL               251050 non-null   object \n",
      " 19  EMS_AGENCY             156627 non-null   object \n",
      " 20  EMS_RUN_NO             25703 non-null    object \n",
      " 21  DRIVER_ACTION          1145339 non-null  object \n",
      " 22  DRIVER_VISION          1144931 non-null  object \n",
      " 23  PHYSICAL_CONDITION     1146146 non-null  object \n",
      " 24  PEDPEDAL_ACTION        26805 non-null    object \n",
      " 25  PEDPEDAL_VISIBILITY    26750 non-null    object \n",
      " 26  PEDPEDAL_LOCATION      26801 non-null    object \n",
      " 27  BAC_RESULT             1146353 non-null  object \n",
      " 28  BAC_RESULT VALUE       1754 non-null     float64\n",
      " 29  CELL_PHONE_USE         1157 non-null     object \n",
      "dtypes: float64(4), object(26)\n",
      "memory usage: 329.7+ MB\n"
     ]
    }
   ],
   "source": [
    "people_data.info()"
   ]
  },
  {
   "cell_type": "code",
   "execution_count": 9,
   "metadata": {},
   "outputs": [
    {
     "data": {
      "text/plain": [
       "DRIVER                 1120121\n",
       "PASSENGER               292479\n",
       "PEDESTRIAN               16334\n",
       "BICYCLE                  10063\n",
       "NON-MOTOR VEHICLE         1188\n",
       "NON-CONTACT VEHICLE        258\n",
       "Name: PERSON_TYPE, dtype: int64"
      ]
     },
     "execution_count": 9,
     "metadata": {},
     "output_type": "execute_result"
    }
   ],
   "source": [
    "people_data['PERSON_TYPE'].value_counts()"
   ]
  },
  {
   "cell_type": "markdown",
   "metadata": {},
   "source": [
    "### chitown_data"
   ]
  },
  {
   "cell_type": "code",
   "execution_count": 10,
   "metadata": {},
   "outputs": [],
   "source": [
    "chitown_data = crash_data.merge(people_data, how = \"outer\" )"
   ]
  },
  {
   "cell_type": "code",
   "execution_count": 11,
   "metadata": {},
   "outputs": [
    {
     "data": {
      "text/html": [
       "<div>\n",
       "<style scoped>\n",
       "    .dataframe tbody tr th:only-of-type {\n",
       "        vertical-align: middle;\n",
       "    }\n",
       "\n",
       "    .dataframe tbody tr th {\n",
       "        vertical-align: top;\n",
       "    }\n",
       "\n",
       "    .dataframe thead th {\n",
       "        text-align: right;\n",
       "    }\n",
       "</style>\n",
       "<table border=\"1\" class=\"dataframe\">\n",
       "  <thead>\n",
       "    <tr style=\"text-align: right;\">\n",
       "      <th></th>\n",
       "      <th>CRASH_UNIT_ID</th>\n",
       "      <th>CRASH_RECORD_ID</th>\n",
       "      <th>RD_NO</th>\n",
       "      <th>CRASH_DATE</th>\n",
       "      <th>UNIT_NO</th>\n",
       "      <th>UNIT_TYPE</th>\n",
       "      <th>NUM_PASSENGERS</th>\n",
       "      <th>VEHICLE_ID</th>\n",
       "      <th>CMRC_VEH_I</th>\n",
       "      <th>MAKE</th>\n",
       "      <th>...</th>\n",
       "      <th>EMS_RUN_NO</th>\n",
       "      <th>DRIVER_ACTION</th>\n",
       "      <th>DRIVER_VISION</th>\n",
       "      <th>PHYSICAL_CONDITION</th>\n",
       "      <th>PEDPEDAL_ACTION</th>\n",
       "      <th>PEDPEDAL_VISIBILITY</th>\n",
       "      <th>PEDPEDAL_LOCATION</th>\n",
       "      <th>BAC_RESULT</th>\n",
       "      <th>BAC_RESULT VALUE</th>\n",
       "      <th>CELL_PHONE_USE</th>\n",
       "    </tr>\n",
       "  </thead>\n",
       "  <tbody>\n",
       "    <tr>\n",
       "      <th>0</th>\n",
       "      <td>829999</td>\n",
       "      <td>24ddf9fd8542199d832e1c223cc474e5601b356f1d77a6...</td>\n",
       "      <td>JD124535</td>\n",
       "      <td>01/22/2020 06:25:00 AM</td>\n",
       "      <td>1</td>\n",
       "      <td>DRIVER</td>\n",
       "      <td>NaN</td>\n",
       "      <td>796949.0</td>\n",
       "      <td>NaN</td>\n",
       "      <td>INFINITI</td>\n",
       "      <td>...</td>\n",
       "      <td>NaN</td>\n",
       "      <td>NONE</td>\n",
       "      <td>NOT OBSCURED</td>\n",
       "      <td>NORMAL</td>\n",
       "      <td>NaN</td>\n",
       "      <td>NaN</td>\n",
       "      <td>NaN</td>\n",
       "      <td>TEST NOT OFFERED</td>\n",
       "      <td>NaN</td>\n",
       "      <td>NaN</td>\n",
       "    </tr>\n",
       "    <tr>\n",
       "      <th>1</th>\n",
       "      <td>749947</td>\n",
       "      <td>81dc0de2ed92aa62baccab641fa377be7feb1cc47e6554...</td>\n",
       "      <td>JC451435</td>\n",
       "      <td>09/28/2019 03:30:00 AM</td>\n",
       "      <td>1</td>\n",
       "      <td>DRIVER</td>\n",
       "      <td>NaN</td>\n",
       "      <td>834816.0</td>\n",
       "      <td>NaN</td>\n",
       "      <td>HONDA</td>\n",
       "      <td>...</td>\n",
       "      <td>NaN</td>\n",
       "      <td>UNKNOWN</td>\n",
       "      <td>UNKNOWN</td>\n",
       "      <td>UNKNOWN</td>\n",
       "      <td>NaN</td>\n",
       "      <td>NaN</td>\n",
       "      <td>NaN</td>\n",
       "      <td>TEST NOT OFFERED</td>\n",
       "      <td>NaN</td>\n",
       "      <td>NaN</td>\n",
       "    </tr>\n",
       "    <tr>\n",
       "      <th>2</th>\n",
       "      <td>749949</td>\n",
       "      <td>81dc0de2ed92aa62baccab641fa377be7feb1cc47e6554...</td>\n",
       "      <td>JC451435</td>\n",
       "      <td>09/28/2019 03:30:00 AM</td>\n",
       "      <td>2</td>\n",
       "      <td>PARKED</td>\n",
       "      <td>NaN</td>\n",
       "      <td>834819.0</td>\n",
       "      <td>NaN</td>\n",
       "      <td>TOYOTA</td>\n",
       "      <td>...</td>\n",
       "      <td>NaN</td>\n",
       "      <td>NaN</td>\n",
       "      <td>NaN</td>\n",
       "      <td>NaN</td>\n",
       "      <td>NaN</td>\n",
       "      <td>NaN</td>\n",
       "      <td>NaN</td>\n",
       "      <td>NaN</td>\n",
       "      <td>NaN</td>\n",
       "      <td>NaN</td>\n",
       "    </tr>\n",
       "    <tr>\n",
       "      <th>3</th>\n",
       "      <td>749950</td>\n",
       "      <td>81dc0de2ed92aa62baccab641fa377be7feb1cc47e6554...</td>\n",
       "      <td>JC451435</td>\n",
       "      <td>09/28/2019 03:30:00 AM</td>\n",
       "      <td>3</td>\n",
       "      <td>PARKED</td>\n",
       "      <td>NaN</td>\n",
       "      <td>834817.0</td>\n",
       "      <td>NaN</td>\n",
       "      <td>GENERAL MOTORS CORPORATION (GMC)</td>\n",
       "      <td>...</td>\n",
       "      <td>NaN</td>\n",
       "      <td>NaN</td>\n",
       "      <td>NaN</td>\n",
       "      <td>NaN</td>\n",
       "      <td>NaN</td>\n",
       "      <td>NaN</td>\n",
       "      <td>NaN</td>\n",
       "      <td>NaN</td>\n",
       "      <td>NaN</td>\n",
       "      <td>NaN</td>\n",
       "    </tr>\n",
       "    <tr>\n",
       "      <th>4</th>\n",
       "      <td>871921</td>\n",
       "      <td>af84fb5c8d996fcd3aefd36593c3a02e6e7509eeb27568...</td>\n",
       "      <td>JD208731</td>\n",
       "      <td>04/13/2020 10:50:00 PM</td>\n",
       "      <td>2</td>\n",
       "      <td>DRIVER</td>\n",
       "      <td>NaN</td>\n",
       "      <td>827212.0</td>\n",
       "      <td>NaN</td>\n",
       "      <td>BUICK</td>\n",
       "      <td>...</td>\n",
       "      <td>NaN</td>\n",
       "      <td>NONE</td>\n",
       "      <td>NOT OBSCURED</td>\n",
       "      <td>NORMAL</td>\n",
       "      <td>NaN</td>\n",
       "      <td>NaN</td>\n",
       "      <td>NaN</td>\n",
       "      <td>TEST NOT OFFERED</td>\n",
       "      <td>NaN</td>\n",
       "      <td>NaN</td>\n",
       "    </tr>\n",
       "    <tr>\n",
       "      <th>...</th>\n",
       "      <td>...</td>\n",
       "      <td>...</td>\n",
       "      <td>...</td>\n",
       "      <td>...</td>\n",
       "      <td>...</td>\n",
       "      <td>...</td>\n",
       "      <td>...</td>\n",
       "      <td>...</td>\n",
       "      <td>...</td>\n",
       "      <td>...</td>\n",
       "      <td>...</td>\n",
       "      <td>...</td>\n",
       "      <td>...</td>\n",
       "      <td>...</td>\n",
       "      <td>...</td>\n",
       "      <td>...</td>\n",
       "      <td>...</td>\n",
       "      <td>...</td>\n",
       "      <td>...</td>\n",
       "      <td>...</td>\n",
       "      <td>...</td>\n",
       "    </tr>\n",
       "    <tr>\n",
       "      <th>1618739</th>\n",
       "      <td>1428950</td>\n",
       "      <td>7330fac3b7ff58a70385bbc486f1b29b84bdf980f3b7f5...</td>\n",
       "      <td>JF413209</td>\n",
       "      <td>09/17/2022 06:30:00 AM</td>\n",
       "      <td>1</td>\n",
       "      <td>DRIVER</td>\n",
       "      <td>NaN</td>\n",
       "      <td>1358003.0</td>\n",
       "      <td>NaN</td>\n",
       "      <td>FORD</td>\n",
       "      <td>...</td>\n",
       "      <td>NaN</td>\n",
       "      <td>UNKNOWN</td>\n",
       "      <td>UNKNOWN</td>\n",
       "      <td>UNKNOWN</td>\n",
       "      <td>NaN</td>\n",
       "      <td>NaN</td>\n",
       "      <td>NaN</td>\n",
       "      <td>TEST NOT OFFERED</td>\n",
       "      <td>NaN</td>\n",
       "      <td>NaN</td>\n",
       "    </tr>\n",
       "    <tr>\n",
       "      <th>1618740</th>\n",
       "      <td>1428951</td>\n",
       "      <td>7330fac3b7ff58a70385bbc486f1b29b84bdf980f3b7f5...</td>\n",
       "      <td>JF413209</td>\n",
       "      <td>09/17/2022 06:30:00 AM</td>\n",
       "      <td>2</td>\n",
       "      <td>PARKED</td>\n",
       "      <td>NaN</td>\n",
       "      <td>1358007.0</td>\n",
       "      <td>NaN</td>\n",
       "      <td>JEEP</td>\n",
       "      <td>...</td>\n",
       "      <td>NaN</td>\n",
       "      <td>NaN</td>\n",
       "      <td>NaN</td>\n",
       "      <td>NaN</td>\n",
       "      <td>NaN</td>\n",
       "      <td>NaN</td>\n",
       "      <td>NaN</td>\n",
       "      <td>NaN</td>\n",
       "      <td>NaN</td>\n",
       "      <td>NaN</td>\n",
       "    </tr>\n",
       "    <tr>\n",
       "      <th>1618741</th>\n",
       "      <td>1429660</td>\n",
       "      <td>9508aefdb2b41844fa8ba879d3089365f910868b5f30cd...</td>\n",
       "      <td>JF402263</td>\n",
       "      <td>09/17/2022 01:30:00 AM</td>\n",
       "      <td>1</td>\n",
       "      <td>DRIVER</td>\n",
       "      <td>NaN</td>\n",
       "      <td>1358680.0</td>\n",
       "      <td>NaN</td>\n",
       "      <td>JEEP</td>\n",
       "      <td>...</td>\n",
       "      <td>NaN</td>\n",
       "      <td>FOLLOWED TOO CLOSELY</td>\n",
       "      <td>NOT OBSCURED</td>\n",
       "      <td>UNKNOWN</td>\n",
       "      <td>NaN</td>\n",
       "      <td>NaN</td>\n",
       "      <td>NaN</td>\n",
       "      <td>TEST NOT OFFERED</td>\n",
       "      <td>NaN</td>\n",
       "      <td>NaN</td>\n",
       "    </tr>\n",
       "    <tr>\n",
       "      <th>1618742</th>\n",
       "      <td>1429661</td>\n",
       "      <td>9508aefdb2b41844fa8ba879d3089365f910868b5f30cd...</td>\n",
       "      <td>JF402263</td>\n",
       "      <td>09/17/2022 01:30:00 AM</td>\n",
       "      <td>2</td>\n",
       "      <td>DRIVER</td>\n",
       "      <td>1.0</td>\n",
       "      <td>1358681.0</td>\n",
       "      <td>NaN</td>\n",
       "      <td>CHEVROLET</td>\n",
       "      <td>...</td>\n",
       "      <td>NaN</td>\n",
       "      <td>NONE</td>\n",
       "      <td>NOT OBSCURED</td>\n",
       "      <td>NORMAL</td>\n",
       "      <td>NaN</td>\n",
       "      <td>NaN</td>\n",
       "      <td>NaN</td>\n",
       "      <td>TEST NOT OFFERED</td>\n",
       "      <td>NaN</td>\n",
       "      <td>NaN</td>\n",
       "    </tr>\n",
       "    <tr>\n",
       "      <th>1618743</th>\n",
       "      <td>1429661</td>\n",
       "      <td>9508aefdb2b41844fa8ba879d3089365f910868b5f30cd...</td>\n",
       "      <td>JF402263</td>\n",
       "      <td>09/17/2022 01:30:00 AM</td>\n",
       "      <td>2</td>\n",
       "      <td>DRIVER</td>\n",
       "      <td>1.0</td>\n",
       "      <td>1358681.0</td>\n",
       "      <td>NaN</td>\n",
       "      <td>CHEVROLET</td>\n",
       "      <td>...</td>\n",
       "      <td>NaN</td>\n",
       "      <td>NaN</td>\n",
       "      <td>NaN</td>\n",
       "      <td>NaN</td>\n",
       "      <td>NaN</td>\n",
       "      <td>NaN</td>\n",
       "      <td>NaN</td>\n",
       "      <td>NaN</td>\n",
       "      <td>NaN</td>\n",
       "      <td>NaN</td>\n",
       "    </tr>\n",
       "  </tbody>\n",
       "</table>\n",
       "<p>1618744 rows × 98 columns</p>\n",
       "</div>"
      ],
      "text/plain": [
       "         CRASH_UNIT_ID                                    CRASH_RECORD_ID  \\\n",
       "0               829999  24ddf9fd8542199d832e1c223cc474e5601b356f1d77a6...   \n",
       "1               749947  81dc0de2ed92aa62baccab641fa377be7feb1cc47e6554...   \n",
       "2               749949  81dc0de2ed92aa62baccab641fa377be7feb1cc47e6554...   \n",
       "3               749950  81dc0de2ed92aa62baccab641fa377be7feb1cc47e6554...   \n",
       "4               871921  af84fb5c8d996fcd3aefd36593c3a02e6e7509eeb27568...   \n",
       "...                ...                                                ...   \n",
       "1618739        1428950  7330fac3b7ff58a70385bbc486f1b29b84bdf980f3b7f5...   \n",
       "1618740        1428951  7330fac3b7ff58a70385bbc486f1b29b84bdf980f3b7f5...   \n",
       "1618741        1429660  9508aefdb2b41844fa8ba879d3089365f910868b5f30cd...   \n",
       "1618742        1429661  9508aefdb2b41844fa8ba879d3089365f910868b5f30cd...   \n",
       "1618743        1429661  9508aefdb2b41844fa8ba879d3089365f910868b5f30cd...   \n",
       "\n",
       "            RD_NO              CRASH_DATE  UNIT_NO UNIT_TYPE  NUM_PASSENGERS  \\\n",
       "0        JD124535  01/22/2020 06:25:00 AM        1    DRIVER             NaN   \n",
       "1        JC451435  09/28/2019 03:30:00 AM        1    DRIVER             NaN   \n",
       "2        JC451435  09/28/2019 03:30:00 AM        2    PARKED             NaN   \n",
       "3        JC451435  09/28/2019 03:30:00 AM        3    PARKED             NaN   \n",
       "4        JD208731  04/13/2020 10:50:00 PM        2    DRIVER             NaN   \n",
       "...           ...                     ...      ...       ...             ...   \n",
       "1618739  JF413209  09/17/2022 06:30:00 AM        1    DRIVER             NaN   \n",
       "1618740  JF413209  09/17/2022 06:30:00 AM        2    PARKED             NaN   \n",
       "1618741  JF402263  09/17/2022 01:30:00 AM        1    DRIVER             NaN   \n",
       "1618742  JF402263  09/17/2022 01:30:00 AM        2    DRIVER             1.0   \n",
       "1618743  JF402263  09/17/2022 01:30:00 AM        2    DRIVER             1.0   \n",
       "\n",
       "         VEHICLE_ID CMRC_VEH_I                              MAKE  ...  \\\n",
       "0          796949.0        NaN                          INFINITI  ...   \n",
       "1          834816.0        NaN                             HONDA  ...   \n",
       "2          834819.0        NaN                            TOYOTA  ...   \n",
       "3          834817.0        NaN  GENERAL MOTORS CORPORATION (GMC)  ...   \n",
       "4          827212.0        NaN                             BUICK  ...   \n",
       "...             ...        ...                               ...  ...   \n",
       "1618739   1358003.0        NaN                              FORD  ...   \n",
       "1618740   1358007.0        NaN                              JEEP  ...   \n",
       "1618741   1358680.0        NaN                              JEEP  ...   \n",
       "1618742   1358681.0        NaN                         CHEVROLET  ...   \n",
       "1618743   1358681.0        NaN                         CHEVROLET  ...   \n",
       "\n",
       "        EMS_RUN_NO         DRIVER_ACTION  DRIVER_VISION PHYSICAL_CONDITION  \\\n",
       "0              NaN                  NONE   NOT OBSCURED             NORMAL   \n",
       "1              NaN               UNKNOWN        UNKNOWN            UNKNOWN   \n",
       "2              NaN                   NaN            NaN                NaN   \n",
       "3              NaN                   NaN            NaN                NaN   \n",
       "4              NaN                  NONE   NOT OBSCURED             NORMAL   \n",
       "...            ...                   ...            ...                ...   \n",
       "1618739        NaN               UNKNOWN        UNKNOWN            UNKNOWN   \n",
       "1618740        NaN                   NaN            NaN                NaN   \n",
       "1618741        NaN  FOLLOWED TOO CLOSELY   NOT OBSCURED            UNKNOWN   \n",
       "1618742        NaN                  NONE   NOT OBSCURED             NORMAL   \n",
       "1618743        NaN                   NaN            NaN                NaN   \n",
       "\n",
       "        PEDPEDAL_ACTION PEDPEDAL_VISIBILITY PEDPEDAL_LOCATION  \\\n",
       "0                   NaN                 NaN               NaN   \n",
       "1                   NaN                 NaN               NaN   \n",
       "2                   NaN                 NaN               NaN   \n",
       "3                   NaN                 NaN               NaN   \n",
       "4                   NaN                 NaN               NaN   \n",
       "...                 ...                 ...               ...   \n",
       "1618739             NaN                 NaN               NaN   \n",
       "1618740             NaN                 NaN               NaN   \n",
       "1618741             NaN                 NaN               NaN   \n",
       "1618742             NaN                 NaN               NaN   \n",
       "1618743             NaN                 NaN               NaN   \n",
       "\n",
       "               BAC_RESULT BAC_RESULT VALUE CELL_PHONE_USE  \n",
       "0        TEST NOT OFFERED              NaN            NaN  \n",
       "1        TEST NOT OFFERED              NaN            NaN  \n",
       "2                     NaN              NaN            NaN  \n",
       "3                     NaN              NaN            NaN  \n",
       "4        TEST NOT OFFERED              NaN            NaN  \n",
       "...                   ...              ...            ...  \n",
       "1618739  TEST NOT OFFERED              NaN            NaN  \n",
       "1618740               NaN              NaN            NaN  \n",
       "1618741  TEST NOT OFFERED              NaN            NaN  \n",
       "1618742  TEST NOT OFFERED              NaN            NaN  \n",
       "1618743               NaN              NaN            NaN  \n",
       "\n",
       "[1618744 rows x 98 columns]"
      ]
     },
     "execution_count": 11,
     "metadata": {},
     "output_type": "execute_result"
    }
   ],
   "source": [
    "chitown_data"
   ]
  },
  {
   "cell_type": "code",
   "execution_count": 13,
   "metadata": {},
   "outputs": [],
   "source": [
    "## Removing these values\n",
    "values = ['EQUESTRIAN', 'DISABLED VEHICLE', 'NON-CONTACT VEHICLE']"
   ]
  },
  {
   "cell_type": "code",
   "execution_count": 14,
   "metadata": {
    "scrolled": true
   },
   "outputs": [],
   "source": [
    "chitown_data = chitown_data[chitown_data.UNIT_TYPE.isin(values) == False]"
   ]
  },
  {
   "cell_type": "code",
   "execution_count": 15,
   "metadata": {},
   "outputs": [
    {
     "name": "stderr",
     "output_type": "stream",
     "text": [
      "/Users/javm/opt/anaconda3/envs/learn-env/lib/python3.8/site-packages/pandas/core/series.py:4563: SettingWithCopyWarning: \n",
      "A value is trying to be set on a copy of a slice from a DataFrame\n",
      "\n",
      "See the caveats in the documentation: https://pandas.pydata.org/pandas-docs/stable/user_guide/indexing.html#returning-a-view-versus-a-copy\n",
      "  return super().replace(\n"
     ]
    }
   ],
   "source": [
    "chitown_data['UNIT_TYPE'].replace('NON-MOTOR VEHICLE', 'BICYCLE', inplace = True)"
   ]
  },
  {
   "cell_type": "markdown",
   "metadata": {},
   "source": [
    "### chitown_data1"
   ]
  },
  {
   "cell_type": "code",
   "execution_count": 16,
   "metadata": {},
   "outputs": [],
   "source": [
    "# Drop columns with more than 95% of values missing\n",
    "perc = 95.0\n",
    "min_count =  int(((100-perc)/100)*chitown_data.shape[0] + 1)\n",
    "chitown_data1 = chitown_data.dropna( axis=1, \n",
    "                thresh=min_count)"
   ]
  },
  {
   "cell_type": "code",
   "execution_count": 17,
   "metadata": {},
   "outputs": [
    {
     "name": "stdout",
     "output_type": "stream",
     "text": [
      "<class 'pandas.core.frame.DataFrame'>\n",
      "Int64Index: 1618285 entries, 0 to 1618743\n",
      "Data columns (total 55 columns):\n",
      " #   Column                 Non-Null Count    Dtype  \n",
      "---  ------                 --------------    -----  \n",
      " 0   CRASH_UNIT_ID          1618285 non-null  int64  \n",
      " 1   CRASH_RECORD_ID        1618285 non-null  object \n",
      " 2   RD_NO                  1607421 non-null  object \n",
      " 3   CRASH_DATE             1618285 non-null  object \n",
      " 4   UNIT_NO                1618285 non-null  int64  \n",
      " 5   UNIT_TYPE              1616389 non-null  object \n",
      " 6   NUM_PASSENGERS         477047 non-null   float64\n",
      " 7   VEHICLE_ID             1585528 non-null  float64\n",
      " 8   MAKE                   1585522 non-null  object \n",
      " 9   MODEL                  1585346 non-null  object \n",
      " 10  LIC_PLATE_STATE        1460375 non-null  object \n",
      " 11  VEHICLE_YEAR           1355565 non-null  float64\n",
      " 12  VEHICLE_DEFECT         1585528 non-null  object \n",
      " 13  VEHICLE_TYPE           1585528 non-null  object \n",
      " 14  VEHICLE_USE            1585528 non-null  object \n",
      " 15  TRAVEL_DIRECTION       1585528 non-null  object \n",
      " 16  MANEUVER               1585528 non-null  object \n",
      " 17  TOWED_I                220604 non-null   object \n",
      " 18  OCCUPANT_CNT           1585528 non-null  float64\n",
      " 19  TOWED_BY               165742 non-null   object \n",
      " 20  TOWED_TO               102240 non-null   object \n",
      " 21  AREA_01_I              439281 non-null   object \n",
      " 22  AREA_02_I              273903 non-null   object \n",
      " 23  AREA_03_I              161450 non-null   object \n",
      " 24  AREA_04_I              163680 non-null   object \n",
      " 25  AREA_05_I              253185 non-null   object \n",
      " 26  AREA_06_I              257371 non-null   object \n",
      " 27  AREA_07_I              228285 non-null   object \n",
      " 28  AREA_08_I              250201 non-null   object \n",
      " 29  AREA_09_I              95394 non-null    object \n",
      " 30  AREA_10_I              139212 non-null   object \n",
      " 31  AREA_11_I              272601 non-null   object \n",
      " 32  AREA_12_I              266697 non-null   object \n",
      " 33  AREA_99_I              159326 non-null   object \n",
      " 34  FIRST_CONTACT_POINT    1571655 non-null  object \n",
      " 35  PERSON_ID              1442837 non-null  object \n",
      " 36  PERSON_TYPE            1442837 non-null  object \n",
      " 37  SEAT_NO                292408 non-null   float64\n",
      " 38  CITY                   1055312 non-null  object \n",
      " 39  STATE                  1068928 non-null  object \n",
      " 40  ZIPCODE                963669 non-null   object \n",
      " 41  SEX                    1420538 non-null  object \n",
      " 42  AGE                    1024721 non-null  float64\n",
      " 43  DRIVERS_LICENSE_STATE  847314 non-null   object \n",
      " 44  DRIVERS_LICENSE_CLASS  719599 non-null   object \n",
      " 45  SAFETY_EQUIPMENT       1438141 non-null  object \n",
      " 46  AIRBAG_DEPLOYED        1413506 non-null  object \n",
      " 47  EJECTION               1423557 non-null  object \n",
      " 48  INJURY_CLASSIFICATION  1442231 non-null  object \n",
      " 49  HOSPITAL               252586 non-null   object \n",
      " 50  EMS_AGENCY             157953 non-null   object \n",
      " 51  DRIVER_ACTION          1147337 non-null  object \n",
      " 52  DRIVER_VISION          1146866 non-null  object \n",
      " 53  PHYSICAL_CONDITION     1148301 non-null  object \n",
      " 54  BAC_RESULT             1148548 non-null  object \n",
      "dtypes: float64(6), int64(2), object(47)\n",
      "memory usage: 691.4+ MB\n"
     ]
    }
   ],
   "source": [
    "chitown_data1.info()"
   ]
  },
  {
   "cell_type": "code",
   "execution_count": 19,
   "metadata": {},
   "outputs": [],
   "source": [
    "chitown_data1 = chitown_data1.drop(['AIRBAG_DEPLOYED','TOWED_I','TOWED_BY', 'TOWED_TO',\n",
    "                                    'PERSON_ID', 'EJECTION','HOSPITAL', 'EMS_AGENCY'], axis = 1)"
   ]
  },
  {
   "cell_type": "code",
   "execution_count": 20,
   "metadata": {},
   "outputs": [
    {
     "name": "stdout",
     "output_type": "stream",
     "text": [
      "<class 'pandas.core.frame.DataFrame'>\n",
      "Int64Index: 1618285 entries, 0 to 1618743\n",
      "Data columns (total 47 columns):\n",
      " #   Column                 Non-Null Count    Dtype  \n",
      "---  ------                 --------------    -----  \n",
      " 0   CRASH_UNIT_ID          1618285 non-null  int64  \n",
      " 1   CRASH_RECORD_ID        1618285 non-null  object \n",
      " 2   RD_NO                  1607421 non-null  object \n",
      " 3   CRASH_DATE             1618285 non-null  object \n",
      " 4   UNIT_NO                1618285 non-null  int64  \n",
      " 5   UNIT_TYPE              1616389 non-null  object \n",
      " 6   NUM_PASSENGERS         477047 non-null   float64\n",
      " 7   VEHICLE_ID             1585528 non-null  float64\n",
      " 8   MAKE                   1585522 non-null  object \n",
      " 9   MODEL                  1585346 non-null  object \n",
      " 10  LIC_PLATE_STATE        1460375 non-null  object \n",
      " 11  VEHICLE_YEAR           1355565 non-null  float64\n",
      " 12  VEHICLE_DEFECT         1585528 non-null  object \n",
      " 13  VEHICLE_TYPE           1585528 non-null  object \n",
      " 14  VEHICLE_USE            1585528 non-null  object \n",
      " 15  TRAVEL_DIRECTION       1585528 non-null  object \n",
      " 16  MANEUVER               1585528 non-null  object \n",
      " 17  OCCUPANT_CNT           1585528 non-null  float64\n",
      " 18  AREA_01_I              439281 non-null   object \n",
      " 19  AREA_02_I              273903 non-null   object \n",
      " 20  AREA_03_I              161450 non-null   object \n",
      " 21  AREA_04_I              163680 non-null   object \n",
      " 22  AREA_05_I              253185 non-null   object \n",
      " 23  AREA_06_I              257371 non-null   object \n",
      " 24  AREA_07_I              228285 non-null   object \n",
      " 25  AREA_08_I              250201 non-null   object \n",
      " 26  AREA_09_I              95394 non-null    object \n",
      " 27  AREA_10_I              139212 non-null   object \n",
      " 28  AREA_11_I              272601 non-null   object \n",
      " 29  AREA_12_I              266697 non-null   object \n",
      " 30  AREA_99_I              159326 non-null   object \n",
      " 31  FIRST_CONTACT_POINT    1571655 non-null  object \n",
      " 32  PERSON_TYPE            1442837 non-null  object \n",
      " 33  SEAT_NO                292408 non-null   float64\n",
      " 34  CITY                   1055312 non-null  object \n",
      " 35  STATE                  1068928 non-null  object \n",
      " 36  ZIPCODE                963669 non-null   object \n",
      " 37  SEX                    1420538 non-null  object \n",
      " 38  AGE                    1024721 non-null  float64\n",
      " 39  DRIVERS_LICENSE_STATE  847314 non-null   object \n",
      " 40  DRIVERS_LICENSE_CLASS  719599 non-null   object \n",
      " 41  SAFETY_EQUIPMENT       1438141 non-null  object \n",
      " 42  INJURY_CLASSIFICATION  1442231 non-null  object \n",
      " 43  DRIVER_ACTION          1147337 non-null  object \n",
      " 44  DRIVER_VISION          1146866 non-null  object \n",
      " 45  PHYSICAL_CONDITION     1148301 non-null  object \n",
      " 46  BAC_RESULT             1148548 non-null  object \n",
      "dtypes: float64(6), int64(2), object(39)\n",
      "memory usage: 592.6+ MB\n"
     ]
    }
   ],
   "source": [
    "chitown_data1.info()"
   ]
  },
  {
   "cell_type": "markdown",
   "metadata": {},
   "source": [
    "### crash_df"
   ]
  },
  {
   "cell_type": "code",
   "execution_count": 21,
   "metadata": {
    "scrolled": false
   },
   "outputs": [],
   "source": [
    "crash_df = chitown_data1[['UNIT_TYPE', 'NUM_PASSENGERS', 'AGE', 'SEX', 'BAC_RESULT','VEHICLE_TYPE', 'MANEUVER', 'FIRST_CONTACT_POINT','DRIVER_ACTION', 'INJURY_CLASSIFICATION']]"
   ]
  },
  {
   "cell_type": "code",
   "execution_count": 22,
   "metadata": {
    "scrolled": false
   },
   "outputs": [
    {
     "name": "stdout",
     "output_type": "stream",
     "text": [
      "<class 'pandas.core.frame.DataFrame'>\n",
      "Int64Index: 1618285 entries, 0 to 1618743\n",
      "Data columns (total 10 columns):\n",
      " #   Column                 Non-Null Count    Dtype  \n",
      "---  ------                 --------------    -----  \n",
      " 0   UNIT_TYPE              1616389 non-null  object \n",
      " 1   NUM_PASSENGERS         477047 non-null   float64\n",
      " 2   AGE                    1024721 non-null  float64\n",
      " 3   SEX                    1420538 non-null  object \n",
      " 4   BAC_RESULT             1148548 non-null  object \n",
      " 5   VEHICLE_TYPE           1585528 non-null  object \n",
      " 6   MANEUVER               1585528 non-null  object \n",
      " 7   FIRST_CONTACT_POINT    1571655 non-null  object \n",
      " 8   DRIVER_ACTION          1147337 non-null  object \n",
      " 9   INJURY_CLASSIFICATION  1442231 non-null  object \n",
      "dtypes: float64(2), object(8)\n",
      "memory usage: 135.8+ MB\n"
     ]
    }
   ],
   "source": [
    "crash_df.info()"
   ]
  },
  {
   "cell_type": "markdown",
   "metadata": {},
   "source": [
    "### crash_df2"
   ]
  },
  {
   "cell_type": "code",
   "execution_count": 24,
   "metadata": {},
   "outputs": [],
   "source": [
    "crash_df2 =crash_df.dropna(subset=['INJURY_CLASSIFICATION'])"
   ]
  },
  {
   "cell_type": "code",
   "execution_count": 25,
   "metadata": {},
   "outputs": [],
   "source": [
    "rename2 = {\"NO INDICATION OF INJURY\" : 0, \"NONINCAPACITATING INJURY\" : 1, \"REPORTED, NOT EVIDENT\": 1, \"INCAPACITATING INJURY\" : 1, 'FATAL': 1}\n",
    "crash_df2=crash_df2.replace({\"INJURY_CLASSIFICATION\": rename2})"
   ]
  },
  {
   "cell_type": "code",
   "execution_count": 26,
   "metadata": {},
   "outputs": [
    {
     "data": {
      "text/plain": [
       "0    0.914406\n",
       "1    0.085594\n",
       "Name: INJURY_CLASSIFICATION, dtype: float64"
      ]
     },
     "execution_count": 26,
     "metadata": {},
     "output_type": "execute_result"
    }
   ],
   "source": [
    "crash_df2['INJURY_CLASSIFICATION'].value_counts(normalize = True)"
   ]
  },
  {
   "cell_type": "code",
   "execution_count": 27,
   "metadata": {
    "scrolled": true
   },
   "outputs": [],
   "source": [
    "rename = {\"TEST NOT OFFERED\" : 0, \"TEST REFUSED\" : 0, \"TEST TAKEN\": 1, \"TEST PERFORMED, RESULTS UNKNOWN\" : 1}\n",
    "crash_df2=crash_df2.replace({\"BAC_RESULT\": rename})"
   ]
  },
  {
   "cell_type": "code",
   "execution_count": 28,
   "metadata": {},
   "outputs": [],
   "source": [
    "crash_df2 = crash_df2.fillna(crash_df2.max())"
   ]
  },
  {
   "cell_type": "code",
   "execution_count": 30,
   "metadata": {},
   "outputs": [
    {
     "name": "stdout",
     "output_type": "stream",
     "text": [
      "<class 'pandas.core.frame.DataFrame'>\n",
      "Int64Index: 1442231 entries, 0 to 1618743\n",
      "Data columns (total 10 columns):\n",
      " #   Column                 Non-Null Count    Dtype  \n",
      "---  ------                 --------------    -----  \n",
      " 0   UNIT_TYPE              1442088 non-null  object \n",
      " 1   NUM_PASSENGERS         1442231 non-null  float64\n",
      " 2   AGE                    1442231 non-null  float64\n",
      " 3   SEX                    1420416 non-null  object \n",
      " 4   BAC_RESULT             1442231 non-null  float64\n",
      " 5   VEHICLE_TYPE           1411607 non-null  object \n",
      " 6   MANEUVER               1411607 non-null  object \n",
      " 7   FIRST_CONTACT_POINT    1399567 non-null  object \n",
      " 8   DRIVER_ACTION          1147280 non-null  object \n",
      " 9   INJURY_CLASSIFICATION  1442231 non-null  int64  \n",
      "dtypes: float64(3), int64(1), object(6)\n",
      "memory usage: 121.0+ MB\n"
     ]
    }
   ],
   "source": [
    "crash_df2.info()"
   ]
  },
  {
   "cell_type": "markdown",
   "metadata": {},
   "source": [
    "### crash_df3"
   ]
  },
  {
   "cell_type": "code",
   "execution_count": 31,
   "metadata": {},
   "outputs": [],
   "source": [
    "crash_df3 = crash_df2.sample(n=50000)"
   ]
  },
  {
   "cell_type": "code",
   "execution_count": 32,
   "metadata": {},
   "outputs": [
    {
     "data": {
      "text/plain": [
       "0    0.914406\n",
       "1    0.085594\n",
       "Name: INJURY_CLASSIFICATION, dtype: float64"
      ]
     },
     "execution_count": 32,
     "metadata": {},
     "output_type": "execute_result"
    }
   ],
   "source": [
    "crash_df2['INJURY_CLASSIFICATION'].value_counts(normalize = True)"
   ]
  },
  {
   "cell_type": "code",
   "execution_count": 33,
   "metadata": {},
   "outputs": [
    {
     "data": {
      "text/plain": [
       "0    0.9153\n",
       "1    0.0847\n",
       "Name: INJURY_CLASSIFICATION, dtype: float64"
      ]
     },
     "execution_count": 33,
     "metadata": {},
     "output_type": "execute_result"
    }
   ],
   "source": [
    "crash_df3['INJURY_CLASSIFICATION'].value_counts(normalize = True)"
   ]
  },
  {
   "cell_type": "code",
   "execution_count": 34,
   "metadata": {
    "scrolled": false
   },
   "outputs": [
    {
     "name": "stdout",
     "output_type": "stream",
     "text": [
      "<class 'pandas.core.frame.DataFrame'>\n",
      "Int64Index: 50000 entries, 420686 to 379771\n",
      "Data columns (total 10 columns):\n",
      " #   Column                 Non-Null Count  Dtype  \n",
      "---  ------                 --------------  -----  \n",
      " 0   UNIT_TYPE              49996 non-null  object \n",
      " 1   NUM_PASSENGERS         50000 non-null  float64\n",
      " 2   AGE                    50000 non-null  float64\n",
      " 3   SEX                    49258 non-null  object \n",
      " 4   BAC_RESULT             50000 non-null  float64\n",
      " 5   VEHICLE_TYPE           48846 non-null  object \n",
      " 6   MANEUVER               48846 non-null  object \n",
      " 7   FIRST_CONTACT_POINT    48447 non-null  object \n",
      " 8   DRIVER_ACTION          39919 non-null  object \n",
      " 9   INJURY_CLASSIFICATION  50000 non-null  int64  \n",
      "dtypes: float64(3), int64(1), object(6)\n",
      "memory usage: 4.2+ MB\n"
     ]
    }
   ],
   "source": [
    "crash_df3.info()"
   ]
  },
  {
   "cell_type": "markdown",
   "metadata": {},
   "source": [
    "## Pipelines"
   ]
  },
  {
   "cell_type": "code",
   "execution_count": 35,
   "metadata": {},
   "outputs": [],
   "source": [
    "from sklearn.pipeline import Pipeline\n",
    "from sklearn.impute import SimpleImputer\n",
    "from sklearn.preprocessing import LabelEncoder\n",
    "from sklearn.preprocessing import OrdinalEncoder\n",
    "from sklearn.preprocessing import OneHotEncoder\n",
    "from sklearn.preprocessing import StandardScaler\n",
    "from sklearn.preprocessing import MaxAbsScaler\n",
    "from sklearn.compose import ColumnTransformer"
   ]
  },
  {
   "cell_type": "code",
   "execution_count": 36,
   "metadata": {},
   "outputs": [],
   "source": [
    "X = crash_df3.drop('INJURY_CLASSIFICATION', axis = 1)\n",
    "y = crash_df3['INJURY_CLASSIFICATION']"
   ]
  },
  {
   "cell_type": "code",
   "execution_count": 37,
   "metadata": {},
   "outputs": [],
   "source": [
    "numeric_features = [\"NUM_PASSENGERS\", \"AGE\", \"BAC_RESULT\"]\n",
    "numeric_transformer = Pipeline(\n",
    "    steps=[(\"imputer\", SimpleImputer(strategy=\"median\")), (\"scaler\", StandardScaler())]\n",
    ")\n",
    "\n",
    "categorical_features = [\"UNIT_TYPE\", \"SEX\", \"VEHICLE_TYPE\", \"MANEUVER\", \"FIRST_CONTACT_POINT\", \"DRIVER_ACTION\"]\n",
    "categorical_transformer = Pipeline(steps=[\n",
    "    ('imputer', SimpleImputer(strategy ='constant', fill_value ='missing')),\n",
    "    ('encoder', OneHotEncoder(handle_unknown='ignore'))])\n",
    "\n",
    "preprocessor = ColumnTransformer(\n",
    "    transformers=[\n",
    "        (\"num\", numeric_transformer, numeric_features),\n",
    "        (\"cat\", categorical_transformer, categorical_features),\n",
    "    ]\n",
    ")"
   ]
  },
  {
   "cell_type": "code",
   "execution_count": 38,
   "metadata": {
    "scrolled": false
   },
   "outputs": [
    {
     "name": "stdout",
     "output_type": "stream",
     "text": [
      "model score: 0.929\n"
     ]
    },
    {
     "name": "stderr",
     "output_type": "stream",
     "text": [
      "/Users/javm/opt/anaconda3/envs/learn-env/lib/python3.8/site-packages/sklearn/linear_model/_logistic.py:762: ConvergenceWarning: lbfgs failed to converge (status=1):\n",
      "STOP: TOTAL NO. of ITERATIONS REACHED LIMIT.\n",
      "\n",
      "Increase the number of iterations (max_iter) or scale the data as shown in:\n",
      "    https://scikit-learn.org/stable/modules/preprocessing.html\n",
      "Please also refer to the documentation for alternative solver options:\n",
      "    https://scikit-learn.org/stable/modules/linear_model.html#logistic-regression\n",
      "  n_iter_i = _check_optimize_result(\n"
     ]
    }
   ],
   "source": [
    "clf = Pipeline(\n",
    "    steps=[(\"preprocessor\", preprocessor), (\"classifier\", LogisticRegression(random_state=42))]\n",
    ")\n",
    "\n",
    "X_train, X_test, y_train, y_test = train_test_split(X, y, test_size=0.2, random_state=42)\n",
    "\n",
    "clf.fit(X_train, y_train)\n",
    "print(\"model score: %.3f\" % clf.score(X_test, y_test))"
   ]
  },
  {
   "cell_type": "markdown",
   "metadata": {},
   "source": [
    "## Base Model"
   ]
  },
  {
   "cell_type": "code",
   "execution_count": 39,
   "metadata": {
    "scrolled": false
   },
   "outputs": [
    {
     "data": {
      "text/plain": [
       "<sklearn.metrics._plot.confusion_matrix.ConfusionMatrixDisplay at 0x7fda962eb2b0>"
      ]
     },
     "execution_count": 39,
     "metadata": {},
     "output_type": "execute_result"
    },
    {
     "data": {
      "image/png": "[encoded data removed]",
      "text/plain": [
       "<Figure size 432x288 with 2 Axes>"
      ]
     },
     "metadata": {
      "needs_background": "light"
     },
     "output_type": "display_data"
    }
   ],
   "source": [
    "from sklearn.metrics import plot_confusion_matrix\n",
    "plot_confusion_matrix(clf, X_test, y_test)"
   ]
  },
  {
   "cell_type": "code",
   "execution_count": 40,
   "metadata": {},
   "outputs": [
    {
     "data": {
      "text/plain": [
       "0    36625\n",
       "1     3375\n",
       "Name: INJURY_CLASSIFICATION, dtype: int64"
      ]
     },
     "execution_count": 40,
     "metadata": {},
     "output_type": "execute_result"
    }
   ],
   "source": [
    "y_train.value_counts()"
   ]
  },
  {
   "cell_type": "code",
   "execution_count": 41,
   "metadata": {},
   "outputs": [],
   "source": [
    "from imblearn.over_sampling import SMOTE"
   ]
  },
  {
   "cell_type": "code",
   "execution_count": 42,
   "metadata": {},
   "outputs": [
    {
     "name": "stdout",
     "output_type": "stream",
     "text": [
      "Accuracy: 0.9288\n",
      "Recall: 0.2116279069767442\n",
      "Precision: 0.8425925925925926\n",
      "F1 : 0.33828996282527884\n"
     ]
    },
    {
     "data": {
      "text/plain": [
       "<sklearn.metrics._plot.confusion_matrix.ConfusionMatrixDisplay at 0x7fda62ae3dc0>"
      ]
     },
     "execution_count": 42,
     "metadata": {},
     "output_type": "execute_result"
    },
    {
     "data": {
      "image/png": "[encoded data removed]",
      "text/plain": [
       "<Figure size 432x288 with 2 Axes>"
      ]
     },
     "metadata": {
      "needs_background": "light"
     },
     "output_type": "display_data"
    }
   ],
   "source": [
    "smote_y_pred = clf.predict(X_test)\n",
    "print(\"Accuracy: {}\".format(accuracy_score(y_test,smote_y_pred)))\n",
    "print(\"Recall: {}\".format(recall_score(y_test,smote_y_pred)))\n",
    "print(\"Precision: {}\".format(precision_score(y_test,smote_y_pred)))\n",
    "print(\"F1 : {}\".format(f1_score(y_test,smote_y_pred)))\n",
    "plot_confusion_matrix(clf,X_test,y_test)"
   ]
  },
  {
   "cell_type": "markdown",
   "metadata": {},
   "source": [
    "## Random Forest"
   ]
  },
  {
   "cell_type": "code",
   "execution_count": 43,
   "metadata": {},
   "outputs": [
    {
     "name": "stdout",
     "output_type": "stream",
     "text": [
      "model score: 0.907\n"
     ]
    }
   ],
   "source": [
    "clf2 = Pipeline(\n",
    "    steps=[(\"preprocessor\", preprocessor), (\"classifier\", RandomForestClassifier(random_state=42))]\n",
    ")\n",
    "\n",
    "X_train, X_test, y_train, y_test = train_test_split(X, y, test_size=0.2, random_state=42)\n",
    "\n",
    "clf2.fit(X_train, y_train)\n",
    "print(\"model score: %.3f\" % clf2.score(X_test, y_test))"
   ]
  },
  {
   "cell_type": "code",
   "execution_count": 44,
   "metadata": {
    "scrolled": true
   },
   "outputs": [
    {
     "name": "stdout",
     "output_type": "stream",
     "text": [
      "Accuracy: 0.907\n",
      "Recall: 0.2302325581395349\n",
      "Precision: 0.4248927038626609\n",
      "F1 : 0.29864253393665163\n"
     ]
    },
    {
     "data": {
      "text/plain": [
       "<sklearn.metrics._plot.confusion_matrix.ConfusionMatrixDisplay at 0x7fda65623070>"
      ]
     },
     "execution_count": 44,
     "metadata": {},
     "output_type": "execute_result"
    },
    {
     "data": {
      "image/png": "[encoded data removed]",
      "text/plain": [
       "<Figure size 432x288 with 2 Axes>"
      ]
     },
     "metadata": {
      "needs_background": "light"
     },
     "output_type": "display_data"
    }
   ],
   "source": [
    "smote_y_pred = clf2.predict(X_test)\n",
    "print(\"Accuracy: {}\".format(accuracy_score(y_test,smote_y_pred)))\n",
    "print(\"Recall: {}\".format(recall_score(y_test,smote_y_pred)))\n",
    "print(\"Precision: {}\".format(precision_score(y_test,smote_y_pred)))\n",
    "print(\"F1 : {}\".format(f1_score(y_test,smote_y_pred)))\n",
    "plot_confusion_matrix(clf2,X_test,y_test)"
   ]
  },
  {
   "cell_type": "code",
   "execution_count": null,
   "metadata": {},
   "outputs": [],
   "source": [
    "y_pred = best_model.predict(X_test)"
   ]
  },
  {
   "cell_type": "markdown",
   "metadata": {},
   "source": [
    "## RandomizedSearchCV"
   ]
  },
  {
   "cell_type": "code",
   "execution_count": 45,
   "metadata": {},
   "outputs": [
    {
     "name": "stdout",
     "output_type": "stream",
     "text": [
      "model score: 0.908\n"
     ]
    }
   ],
   "source": [
    "clf2 = Pipeline(\n",
    "    steps=[(\"preprocessor\", preprocessor),\n",
    "           (\"classifier\", RandomForestClassifier(random_state=42),)])\n",
    "\n",
    "X_train, X_test, y_train, y_test = train_test_split(X, y, test_size=0.3, random_state=42)\n",
    "\n",
    "clf2.fit(X_train, y_train)\n",
    "print(\"model score: %.3f\" % clf2.score(X_test, y_test))"
   ]
  },
  {
   "cell_type": "code",
   "execution_count": 57,
   "metadata": {
    "scrolled": true
   },
   "outputs": [
    {
     "data": {
      "text/plain": [
       "RandomizedSearchCV(cv=5,\n",
       "                   estimator=Pipeline(steps=[('preprocessor',\n",
       "                                              ColumnTransformer(transformers=[('num',\n",
       "                                                                               Pipeline(steps=[('imputer',\n",
       "                                                                                                SimpleImputer(strategy='median')),\n",
       "                                                                                               ('scaler',\n",
       "                                                                                                StandardScaler())]),\n",
       "                                                                               ['NUM_PASSENGERS',\n",
       "                                                                                'AGE',\n",
       "                                                                                'BAC_RESULT']),\n",
       "                                                                              ('cat',\n",
       "                                                                               Pipeline(steps=[('imputer',\n",
       "                                                                                                SimpleImputer(fill_value='missing',\n",
       "                                                                                                              strategy='constant')),\n",
       "                                                                                               ('encoder',\n",
       "                                                                                                OneHotEncoder(handle_unknown='ignore'))]),\n",
       "                                                                               ['UNIT_TYPE',\n",
       "                                                                                'SEX',\n",
       "                                                                                'VEHICLE_TYPE',\n",
       "                                                                                'MANEUVER',\n",
       "                                                                                'FIRST_CONTACT_POINT',\n",
       "                                                                                'DRIVER_ACTION'])])),\n",
       "                                             ('classifier',\n",
       "                                              RandomForestClassifier(random_state=42))]),\n",
       "                   n_jobs=-1,\n",
       "                   param_distributions={'classifier__min_samples_leaf': [1, 3,\n",
       "                                                                         5],\n",
       "                                        'classifier__min_samples_split': [0.32,\n",
       "                                                                          0.35,\n",
       "                                                                          0.38],\n",
       "                                        'classifier__n_estimators': [68, 72,\n",
       "                                                                     76]},\n",
       "                   scoring='recall')"
      ]
     },
     "execution_count": 57,
     "metadata": {},
     "output_type": "execute_result"
    }
   ],
   "source": [
    "rf_params = {'classifier__n_estimators': [68, 72, 76],\n",
    "             'classifier__min_samples_leaf': [1, 3, 5],\n",
    "             'classifier__min_samples_split': [.32, .35, .38]}\n",
    "rf_cv = RandomizedSearchCV(clf2, rf_params, cv = 5, scoring = 'recall', n_jobs = -1, refit = True)\n",
    "\n",
    "rf_cv.fit(X_train, y_train)"
   ]
  },
  {
   "cell_type": "code",
   "execution_count": 58,
   "metadata": {},
   "outputs": [],
   "source": [
    "best_model = rf_cv.best_estimator_"
   ]
  },
  {
   "cell_type": "code",
   "execution_count": 59,
   "metadata": {
    "scrolled": true
   },
   "outputs": [
    {
     "data": {
      "text/plain": [
       "Pipeline(steps=[('preprocessor',\n",
       "                 ColumnTransformer(transformers=[('num',\n",
       "                                                  Pipeline(steps=[('imputer',\n",
       "                                                                   SimpleImputer(strategy='median')),\n",
       "                                                                  ('scaler',\n",
       "                                                                   StandardScaler())]),\n",
       "                                                  ['NUM_PASSENGERS', 'AGE',\n",
       "                                                   'BAC_RESULT']),\n",
       "                                                 ('cat',\n",
       "                                                  Pipeline(steps=[('imputer',\n",
       "                                                                   SimpleImputer(fill_value='missing',\n",
       "                                                                                 strategy='constant')),\n",
       "                                                                  ('encoder',\n",
       "                                                                   OneHotEncoder(handle_unknown='ignore'))]),\n",
       "                                                  ['UNIT_TYPE', 'SEX',\n",
       "                                                   'VEHICLE_TYPE', 'MANEUVER',\n",
       "                                                   'FIRST_CONTACT_POINT',\n",
       "                                                   'DRIVER_ACTION'])])),\n",
       "                ('classifier',\n",
       "                 RandomForestClassifier(min_samples_split=0.38, n_estimators=72,\n",
       "                                        random_state=42))])"
      ]
     },
     "execution_count": 59,
     "metadata": {},
     "output_type": "execute_result"
    }
   ],
   "source": [
    "best_model"
   ]
  },
  {
   "cell_type": "code",
   "execution_count": 49,
   "metadata": {},
   "outputs": [],
   "source": [
    "#best_model try 1: max_depth=3,                     min_samples_split=0.35, n_estimators=65,\n",
    "#best_model try 2: max_depth=4, min_samples_leaf=3, min_samples_split=0.35, n_estimators=70,\n",
    "#best_model try 3: max_depth=6,                     min_samples_split=0.38, n_estimators=76,                                                                              "
   ]
  },
  {
   "cell_type": "code",
   "execution_count": 60,
   "metadata": {
    "scrolled": true
   },
   "outputs": [
    {
     "data": {
      "text/plain": [
       "Pipeline(steps=[('preprocessor',\n",
       "                 ColumnTransformer(transformers=[('num',\n",
       "                                                  Pipeline(steps=[('imputer',\n",
       "                                                                   SimpleImputer(strategy='median')),\n",
       "                                                                  ('scaler',\n",
       "                                                                   StandardScaler())]),\n",
       "                                                  ['NUM_PASSENGERS', 'AGE',\n",
       "                                                   'BAC_RESULT']),\n",
       "                                                 ('cat',\n",
       "                                                  Pipeline(steps=[('imputer',\n",
       "                                                                   SimpleImputer(fill_value='missing',\n",
       "                                                                                 strategy='constant')),\n",
       "                                                                  ('encoder',\n",
       "                                                                   OneHotEncoder(handle_unknown='ignore'))]),\n",
       "                                                  ['UNIT_TYPE', 'SEX',\n",
       "                                                   'VEHICLE_TYPE', 'MANEUVER',\n",
       "                                                   'FIRST_CONTACT_POINT',\n",
       "                                                   'DRIVER_ACTION'])])),\n",
       "                ('classifier',\n",
       "                 RandomForestClassifier(min_samples_split=0.38, n_estimators=72,\n",
       "                                        random_state=42))])"
      ]
     },
     "execution_count": 60,
     "metadata": {},
     "output_type": "execute_result"
    }
   ],
   "source": [
    "best_model.fit(X_train, y_train)"
   ]
  },
  {
   "cell_type": "code",
   "execution_count": 61,
   "metadata": {},
   "outputs": [],
   "source": [
    "y_pred = best_model.predict(X_test)"
   ]
  },
  {
   "cell_type": "code",
   "execution_count": 75,
   "metadata": {},
   "outputs": [
    {
     "data": {
      "text/plain": [
       "0.9288571428571428"
      ]
     },
     "execution_count": 75,
     "metadata": {},
     "output_type": "execute_result"
    }
   ],
   "source": [
    "best_model.score(X_train, y_train)"
   ]
  },
  {
   "cell_type": "code",
   "execution_count": 73,
   "metadata": {
    "scrolled": true
   },
   "outputs": [
    {
     "data": {
      "text/plain": [
       "0.19409937888198758"
      ]
     },
     "execution_count": 73,
     "metadata": {},
     "output_type": "execute_result"
    }
   ],
   "source": [
    "recall_score "
   ]
  },
  {
   "cell_type": "code",
   "execution_count": 158,
   "metadata": {},
   "outputs": [
    {
     "name": "stdout",
     "output_type": "stream",
     "text": [
      "              precision    recall  f1-score   support\n",
      "\n",
      "           0       0.93      1.00      0.96     13712\n",
      "           1       0.85      0.19      0.31      1288\n",
      "\n",
      "    accuracy                           0.93     15000\n",
      "   macro avg       0.89      0.59      0.64     15000\n",
      "weighted avg       0.92      0.93      0.91     15000\n",
      "\n"
     ]
    }
   ],
   "source": [
    "print(classification_report(y_test, y_pred))"
   ]
  },
  {
   "cell_type": "code",
   "execution_count": null,
   "metadata": {},
   "outputs": [],
   "source": []
  },
  {
   "cell_type": "markdown",
   "metadata": {},
   "source": [
    "## GridSearchCV"
   ]
  },
  {
   "cell_type": "code",
   "execution_count": 68,
   "metadata": {},
   "outputs": [
    {
     "data": {
      "text/plain": [
       "GridSearchCV(cv=5,\n",
       "             estimator=Pipeline(steps=[('preprocessor',\n",
       "                                        ColumnTransformer(transformers=[('num',\n",
       "                                                                         Pipeline(steps=[('imputer',\n",
       "                                                                                          SimpleImputer(strategy='median')),\n",
       "                                                                                         ('scaler',\n",
       "                                                                                          StandardScaler())]),\n",
       "                                                                         ['NUM_PASSENGERS',\n",
       "                                                                          'AGE',\n",
       "                                                                          'BAC_RESULT']),\n",
       "                                                                        ('cat',\n",
       "                                                                         Pipeline(steps=[('imputer',\n",
       "                                                                                          SimpleImputer(fill_value='missing',\n",
       "                                                                                                        strategy='constant')),\n",
       "                                                                                         ('encoder',\n",
       "                                                                                          OneHotEncoder(handle_unknown='ignore'))]),\n",
       "                                                                         ['UNIT_TYPE',\n",
       "                                                                          'SEX',\n",
       "                                                                          'VEHICLE_TYPE',\n",
       "                                                                          'MANEUVER',\n",
       "                                                                          'FIRST_CONTACT_POINT',\n",
       "                                                                          'DRIVER_ACTION'])])),\n",
       "                                       ('classifier',\n",
       "                                        RandomForestClassifier(random_state=42))]),\n",
       "             n_jobs=-1,\n",
       "             param_grid={'classifier__min_samples_leaf': [1, 3, 5],\n",
       "                         'classifier__min_samples_split': [0.32, 0.35, 0.38],\n",
       "                         'classifier__n_estimators': [68, 72, 76]},\n",
       "             scoring='recall')"
      ]
     },
     "execution_count": 68,
     "metadata": {},
     "output_type": "execute_result"
    }
   ],
   "source": [
    "rf_params = {'classifier__n_estimators': [68, 72, 76],\n",
    "             'classifier__min_samples_leaf': [1, 3, 5],\n",
    "             'classifier__min_samples_split': [.32, .35, .38]}\n",
    "gr_cv = GridSearchCV(clf2, rf_params, cv = 5, scoring = 'recall', n_jobs = -1, refit = True)\n",
    "\n",
    "gr_cv.fit(X_train, y_train)"
   ]
  },
  {
   "cell_type": "code",
   "execution_count": 69,
   "metadata": {},
   "outputs": [],
   "source": [
    "best_model2 = gr_cv.best_estimator_"
   ]
  },
  {
   "cell_type": "code",
   "execution_count": 70,
   "metadata": {
    "scrolled": true
   },
   "outputs": [
    {
     "data": {
      "text/plain": [
       "Pipeline(steps=[('preprocessor',\n",
       "                 ColumnTransformer(transformers=[('num',\n",
       "                                                  Pipeline(steps=[('imputer',\n",
       "                                                                   SimpleImputer(strategy='median')),\n",
       "                                                                  ('scaler',\n",
       "                                                                   StandardScaler())]),\n",
       "                                                  ['NUM_PASSENGERS', 'AGE',\n",
       "                                                   'BAC_RESULT']),\n",
       "                                                 ('cat',\n",
       "                                                  Pipeline(steps=[('imputer',\n",
       "                                                                   SimpleImputer(fill_value='missing',\n",
       "                                                                                 strategy='constant')),\n",
       "                                                                  ('encoder',\n",
       "                                                                   OneHotEncoder(handle_unknown='ignore'))]),\n",
       "                                                  ['UNIT_TYPE', 'SEX',\n",
       "                                                   'VEHICLE_TYPE', 'MANEUVER',\n",
       "                                                   'FIRST_CONTACT_POINT',\n",
       "                                                   'DRIVER_ACTION'])])),\n",
       "                ('classifier',\n",
       "                 RandomForestClassifier(min_samples_split=0.32, n_estimators=72,\n",
       "                                        random_state=42))])"
      ]
     },
     "execution_count": 70,
     "metadata": {},
     "output_type": "execute_result"
    }
   ],
   "source": [
    "best_model2"
   ]
  },
  {
   "cell_type": "code",
   "execution_count": 71,
   "metadata": {
    "scrolled": true
   },
   "outputs": [
    {
     "data": {
      "text/plain": [
       "Pipeline(steps=[('preprocessor',\n",
       "                 ColumnTransformer(transformers=[('num',\n",
       "                                                  Pipeline(steps=[('imputer',\n",
       "                                                                   SimpleImputer(strategy='median')),\n",
       "                                                                  ('scaler',\n",
       "                                                                   StandardScaler())]),\n",
       "                                                  ['NUM_PASSENGERS', 'AGE',\n",
       "                                                   'BAC_RESULT']),\n",
       "                                                 ('cat',\n",
       "                                                  Pipeline(steps=[('imputer',\n",
       "                                                                   SimpleImputer(fill_value='missing',\n",
       "                                                                                 strategy='constant')),\n",
       "                                                                  ('encoder',\n",
       "                                                                   OneHotEncoder(handle_unknown='ignore'))]),\n",
       "                                                  ['UNIT_TYPE', 'SEX',\n",
       "                                                   'VEHICLE_TYPE', 'MANEUVER',\n",
       "                                                   'FIRST_CONTACT_POINT',\n",
       "                                                   'DRIVER_ACTION'])])),\n",
       "                ('classifier',\n",
       "                 RandomForestClassifier(min_samples_split=0.32, n_estimators=72,\n",
       "                                        random_state=42))])"
      ]
     },
     "execution_count": 71,
     "metadata": {},
     "output_type": "execute_result"
    }
   ],
   "source": [
    "best_model2.fit(X_train,y_train)"
   ]
  },
  {
   "cell_type": "code",
   "execution_count": 72,
   "metadata": {},
   "outputs": [],
   "source": [
    "y_pred2 = best_model2.predict(X_test)"
   ]
  },
  {
   "cell_type": "code",
   "execution_count": 143,
   "metadata": {},
   "outputs": [
    {
     "name": "stdout",
     "output_type": "stream",
     "text": [
      "              precision    recall  f1-score   support\n",
      "\n",
      "           0       0.93      1.00      0.96     13712\n",
      "           1       0.84      0.20      0.32      1288\n",
      "\n",
      "    accuracy                           0.93     15000\n",
      "   macro avg       0.88      0.60      0.64     15000\n",
      "weighted avg       0.92      0.93      0.91     15000\n",
      "\n"
     ]
    }
   ],
   "source": [
    "print(classification_report(y_test, y_pred2))"
   ]
  },
  {
   "cell_type": "code",
   "execution_count": 82,
   "metadata": {},
   "outputs": [
    {
     "data": {
      "text/plain": [
       "{'classifier__min_samples_leaf': 1,\n",
       " 'classifier__min_samples_split': 0.32,\n",
       " 'classifier__n_estimators': 72}"
      ]
     },
     "execution_count": 82,
     "metadata": {},
     "output_type": "execute_result"
    }
   ],
   "source": [
    "gr_cv.best_params_"
   ]
  },
  {
   "cell_type": "code",
   "execution_count": 188,
   "metadata": {
    "scrolled": true
   },
   "outputs": [],
   "source": [
    "feat_imp = best_model2['classifier'].feature_importances_"
   ]
  },
  {
   "cell_type": "code",
   "execution_count": 189,
   "metadata": {},
   "outputs": [
    {
     "name": "stdout",
     "output_type": "stream",
     "text": [
      "['UNIT_TYPE_BICYCLE' 'UNIT_TYPE_DRIVER' 'UNIT_TYPE_DRIVERLESS'\n",
      " 'UNIT_TYPE_PARKED' 'UNIT_TYPE_PEDESTRIAN' 'UNIT_TYPE_missing' 'SEX_F'\n",
      " 'SEX_M' 'SEX_X' 'SEX_missing' 'VEHICLE_TYPE_ALL-TERRAIN VEHICLE (ATV)'\n",
      " 'VEHICLE_TYPE_AUTOCYCLE' 'VEHICLE_TYPE_BUS OVER 15 PASS.'\n",
      " 'VEHICLE_TYPE_BUS UP TO 15 PASS.' 'VEHICLE_TYPE_FARM EQUIPMENT'\n",
      " 'VEHICLE_TYPE_MOPED OR MOTORIZED BICYCLE'\n",
      " 'VEHICLE_TYPE_MOTOR DRIVEN CYCLE' 'VEHICLE_TYPE_MOTORCYCLE (OVER 150CC)'\n",
      " 'VEHICLE_TYPE_OTHER' 'VEHICLE_TYPE_OTHER VEHICLE WITH TRAILER'\n",
      " 'VEHICLE_TYPE_PASSENGER' 'VEHICLE_TYPE_PICKUP'\n",
      " 'VEHICLE_TYPE_SINGLE UNIT TRUCK WITH TRAILER'\n",
      " 'VEHICLE_TYPE_SPORT UTILITY VEHICLE (SUV)'\n",
      " 'VEHICLE_TYPE_TRACTOR W/ SEMI-TRAILER'\n",
      " 'VEHICLE_TYPE_TRACTOR W/O SEMI-TRAILER'\n",
      " 'VEHICLE_TYPE_TRUCK - SINGLE UNIT' 'VEHICLE_TYPE_UNKNOWN/NA'\n",
      " 'VEHICLE_TYPE_VAN/MINI-VAN' 'VEHICLE_TYPE_missing'\n",
      " 'MANEUVER_AVOIDING VEHICLES/OBJECTS' 'MANEUVER_BACKING'\n",
      " 'MANEUVER_CHANGING LANES' 'MANEUVER_DIVERGING' 'MANEUVER_DRIVERLESS'\n",
      " 'MANEUVER_DRIVING WRONG WAY' 'MANEUVER_ENTER FROM DRIVE/ALLEY'\n",
      " 'MANEUVER_ENTERING TRAFFIC LANE FROM PARKING'\n",
      " 'MANEUVER_LEAVING TRAFFIC LANE TO PARK' 'MANEUVER_MERGING'\n",
      " 'MANEUVER_NEGOTIATING A CURVE' 'MANEUVER_OTHER' 'MANEUVER_PARKED'\n",
      " 'MANEUVER_PARKED IN TRAFFIC LANE' 'MANEUVER_PASSING/OVERTAKING'\n",
      " 'MANEUVER_SKIDDING/CONTROL LOSS' 'MANEUVER_SLOW/STOP - LEFT TURN'\n",
      " 'MANEUVER_SLOW/STOP - LOAD/UNLOAD' 'MANEUVER_SLOW/STOP - RIGHT TURN'\n",
      " 'MANEUVER_SLOW/STOP IN TRAFFIC' 'MANEUVER_STARTING IN TRAFFIC'\n",
      " 'MANEUVER_STRAIGHT AHEAD' 'MANEUVER_TURNING LEFT'\n",
      " 'MANEUVER_TURNING ON RED' 'MANEUVER_TURNING RIGHT' 'MANEUVER_U-TURN'\n",
      " 'MANEUVER_UNKNOWN/NA' 'MANEUVER_missing' 'FIRST_CONTACT_POINT_FRONT'\n",
      " 'FIRST_CONTACT_POINT_FRONT-LEFT' 'FIRST_CONTACT_POINT_FRONT-RIGHT'\n",
      " 'FIRST_CONTACT_POINT_NONE' 'FIRST_CONTACT_POINT_OTHER'\n",
      " 'FIRST_CONTACT_POINT_REAR' 'FIRST_CONTACT_POINT_REAR-LEFT'\n",
      " 'FIRST_CONTACT_POINT_REAR-RIGHT' 'FIRST_CONTACT_POINT_ROOF'\n",
      " 'FIRST_CONTACT_POINT_SIDE-LEFT' 'FIRST_CONTACT_POINT_SIDE-RIGHT'\n",
      " 'FIRST_CONTACT_POINT_TOTAL (ALL AREAS)'\n",
      " 'FIRST_CONTACT_POINT_UNDER CARRIAGE' 'FIRST_CONTACT_POINT_UNKNOWN'\n",
      " 'FIRST_CONTACT_POINT_missing'\n",
      " 'DRIVER_ACTION_CELL PHONE USE OTHER THAN TEXTING'\n",
      " 'DRIVER_ACTION_DISREGARDED CONTROL DEVICES'\n",
      " 'DRIVER_ACTION_EMERGENCY VEHICLE ON CALL'\n",
      " 'DRIVER_ACTION_EVADING POLICE VEHICLE' 'DRIVER_ACTION_FAILED TO YIELD'\n",
      " 'DRIVER_ACTION_FOLLOWED TOO CLOSELY' 'DRIVER_ACTION_IMPROPER BACKING'\n",
      " 'DRIVER_ACTION_IMPROPER LANE CHANGE' 'DRIVER_ACTION_IMPROPER PARKING'\n",
      " 'DRIVER_ACTION_IMPROPER PASSING' 'DRIVER_ACTION_IMPROPER TURN'\n",
      " 'DRIVER_ACTION_LICENSE RESTRICTIONS' 'DRIVER_ACTION_NONE'\n",
      " 'DRIVER_ACTION_OTHER' 'DRIVER_ACTION_OVERCORRECTED'\n",
      " 'DRIVER_ACTION_STOPPED SCHOOL BUS' 'DRIVER_ACTION_TEXTING'\n",
      " 'DRIVER_ACTION_TOO FAST FOR CONDITIONS' 'DRIVER_ACTION_UNKNOWN'\n",
      " 'DRIVER_ACTION_WRONG WAY/SIDE' 'DRIVER_ACTION_missing']\n"
     ]
    }
   ],
   "source": [
    "important = best_model2.named_steps['preprocessor'].transformers_[1][1].named_steps['encoder'].get_feature_names(categorical_features)\n",
    "\n",
    "print(important)\n"
   ]
  },
  {
   "cell_type": "code",
   "execution_count": 227,
   "metadata": {
    "scrolled": true
   },
   "outputs": [],
   "source": [
    "feature_imp_df = pd.DataFrame(feat_imp[:94], important[:94], columns = ['coefficents'])\n",
    "\n",
    "\n",
    "feature_imp_df.reset_index(inplace = True)\n",
    "\n",
    "feature_imp_df.rename(columns = {'index': 'feature_names'}, inplace = True)\n",
    "\n",
    "feature_imp_df.sort_values(by = 'coefficents', ascending = True, inplace = True)"
   ]
  },
  {
   "cell_type": "code",
   "execution_count": 222,
   "metadata": {},
   "outputs": [],
   "source": [
    "### Plotting feature coifficent"
   ]
  },
  {
   "cell_type": "code",
   "execution_count": 228,
   "metadata": {},
   "outputs": [
    {
     "data": {
      "text/plain": [
       "<AxesSubplot:xlabel='coefficents', ylabel='feature_names'>"
      ]
     },
     "execution_count": 228,
     "metadata": {},
     "output_type": "execute_result"
    },
    {
     "data": {
      "image/png": "[encoded data removed]",
      "text/plain": [
       "<Figure size 432x288 with 1 Axes>"
      ]
     },
     "metadata": {
      "needs_background": "light"
     },
     "output_type": "display_data"
    }
   ],
   "source": [
    "import seaborn as sns\n",
    "\n",
    "sns.barplot(x = 'coefficents', y = 'feature_names', data = feature_imp_df[:10])"
   ]
  },
  {
   "cell_type": "code",
   "execution_count": 226,
   "metadata": {},
   "outputs": [
    {
     "data": {
      "text/plain": [
       "<AxesSubplot:xlabel='coefficents', ylabel='feature_names'>"
      ]
     },
     "execution_count": 226,
     "metadata": {},
     "output_type": "execute_result"
    },
    {
     "data": {
      "image/png": "[encoded data removed]",
      "text/plain": [
       "<Figure size 432x288 with 1 Axes>"
      ]
     },
     "metadata": {
      "needs_background": "light"
     },
     "output_type": "display_data"
    }
   ],
   "source": [
    "sns.barplot(x = 'coefficents', y = 'feature_names', data = feature_imp_df[:])"
   ]
  },
  {
   "cell_type": "code",
   "execution_count": 141,
   "metadata": {},
   "outputs": [
    {
     "data": {
      "text/plain": [
       "<AxesSubplot:>"
      ]
     },
     "execution_count": 141,
     "metadata": {},
     "output_type": "execute_result"
    },
    {
     "data": {
      "image/png": "[encoded data removed]",
      "text/plain": [
       "<Figure size 432x288 with 2 Axes>"
      ]
     },
     "metadata": {
      "needs_background": "light"
     },
     "output_type": "display_data"
    }
   ],
   "source": [
    "sns.heatmap(crash_df3.corr())"
   ]
  },
  {
   "cell_type": "code",
   "execution_count": 149,
   "metadata": {
    "scrolled": true
   },
   "outputs": [
    {
     "data": {
      "text/plain": [
       "<sklearn.metrics._plot.confusion_matrix.ConfusionMatrixDisplay at 0x7fdaa1c749a0>"
      ]
     },
     "execution_count": 149,
     "metadata": {},
     "output_type": "execute_result"
    },
    {
     "data": {
      "image/png": "[encoded data removed]",
      "text/plain": [
       "<Figure size 432x288 with 2 Axes>"
      ]
     },
     "metadata": {
      "needs_background": "light"
     },
     "output_type": "display_data"
    }
   ],
   "source": [
    "plot_confusion_matrix(best_model,X_test,y_test)"
   ]
  },
  {
   "cell_type": "code",
   "execution_count": 159,
   "metadata": {},
   "outputs": [
    {
     "data": {
      "text/plain": [
       "<sklearn.metrics._plot.confusion_matrix.ConfusionMatrixDisplay at 0x7fdaa1cc6a90>"
      ]
     },
     "execution_count": 159,
     "metadata": {},
     "output_type": "execute_result"
    },
    {
     "data": {
      "image/png": "[encoded data removed]",
      "text/plain": [
       "<Figure size 432x288 with 2 Axes>"
      ]
     },
     "metadata": {
      "needs_background": "light"
     },
     "output_type": "display_data"
    }
   ],
   "source": [
    "plot_confusion_matrix(newpipeline,X_test,y_test)"
   ]
  },
  {
   "cell_type": "code",
   "execution_count": 150,
   "metadata": {},
   "outputs": [],
   "source": [
    "from imblearn.pipeline import Pipeline\n",
    "from imblearn.over_sampling import SMOTE\n",
    "from imblearn.under_sampling import RandomUnderSampler\n"
   ]
  },
  {
   "cell_type": "code",
   "execution_count": null,
   "metadata": {},
   "outputs": [],
   "source": []
  },
  {
   "cell_type": "code",
   "execution_count": 152,
   "metadata": {},
   "outputs": [
    {
     "data": {
      "text/plain": [
       "Pipeline(steps=[('preprocess',\n",
       "                 ColumnTransformer(transformers=[('num',\n",
       "                                                  Pipeline(steps=[('imputer',\n",
       "                                                                   SimpleImputer(strategy='median')),\n",
       "                                                                  ('scaler',\n",
       "                                                                   StandardScaler())]),\n",
       "                                                  ['NUM_PASSENGERS', 'AGE',\n",
       "                                                   'BAC_RESULT']),\n",
       "                                                 ('cat',\n",
       "                                                  Pipeline(steps=[('imputer',\n",
       "                                                                   SimpleImputer(fill_value='missing',\n",
       "                                                                                 strategy='constant')),\n",
       "                                                                  ('encoder',\n",
       "                                                                   OneHotEncoder(handle_unknown='ignore'))]),\n",
       "                                                  ['UNIT_TYPE', 'SEX',\n",
       "                                                   'VEHICLE_TYPE', 'MANEUVER',\n",
       "                                                   'FIRST_CONTACT_POINT',\n",
       "                                                   'DRIVER_ACTION'])])),\n",
       "                ('over', SMOTE(sampling_strategy=0.25)),\n",
       "                ('under', RandomUnderSampler(sampling_strategy=0.5)),\n",
       "                ('model',\n",
       "                 RandomForestClassifier(max_depth=12, n_estimators=40,\n",
       "                                        random_state=25))])"
      ]
     },
     "execution_count": 152,
     "metadata": {},
     "output_type": "execute_result"
    }
   ],
   "source": [
    "model = RandomForestClassifier(max_depth=12, n_estimators=40, random_state=25)\n",
    "over = SMOTE(sampling_strategy=0.25)\n",
    "under = RandomUnderSampler(sampling_strategy=0.5)\n",
    "steps = [('preprocess', preprocessor), ('over', over), ('under', under), ('model', model)]\n",
    "newpipeline = Pipeline(steps=steps)\n",
    "newpipeline"
   ]
  },
  {
   "cell_type": "code",
   "execution_count": 153,
   "metadata": {},
   "outputs": [
    {
     "data": {
      "text/plain": [
       "Pipeline(steps=[('preprocess',\n",
       "                 ColumnTransformer(transformers=[('num',\n",
       "                                                  Pipeline(steps=[('imputer',\n",
       "                                                                   SimpleImputer(strategy='median')),\n",
       "                                                                  ('scaler',\n",
       "                                                                   StandardScaler())]),\n",
       "                                                  ['NUM_PASSENGERS', 'AGE',\n",
       "                                                   'BAC_RESULT']),\n",
       "                                                 ('cat',\n",
       "                                                  Pipeline(steps=[('imputer',\n",
       "                                                                   SimpleImputer(fill_value='missing',\n",
       "                                                                                 strategy='constant')),\n",
       "                                                                  ('encoder',\n",
       "                                                                   OneHotEncoder(handle_unknown='ignore'))]),\n",
       "                                                  ['UNIT_TYPE', 'SEX',\n",
       "                                                   'VEHICLE_TYPE', 'MANEUVER',\n",
       "                                                   'FIRST_CONTACT_POINT',\n",
       "                                                   'DRIVER_ACTION'])])),\n",
       "                ('over', SMOTE(sampling_strategy=0.25)),\n",
       "                ('under', RandomUnderSampler(sampling_strategy=0.5)),\n",
       "                ('model',\n",
       "                 RandomForestClassifier(max_depth=12, n_estimators=40,\n",
       "                                        random_state=25))])"
      ]
     },
     "execution_count": 153,
     "metadata": {},
     "output_type": "execute_result"
    }
   ],
   "source": [
    "newpipeline.fit(X_train, y_train)"
   ]
  },
  {
   "cell_type": "code",
   "execution_count": 155,
   "metadata": {},
   "outputs": [],
   "source": [
    "new_pred = newpipeline.predict(X_test)"
   ]
  },
  {
   "cell_type": "code",
   "execution_count": 156,
   "metadata": {},
   "outputs": [
    {
     "name": "stdout",
     "output_type": "stream",
     "text": [
      "              precision    recall  f1-score   support\n",
      "\n",
      "           0       0.94      0.96      0.95     13712\n",
      "           1       0.43      0.30      0.35      1288\n",
      "\n",
      "    accuracy                           0.91     15000\n",
      "   macro avg       0.68      0.63      0.65     15000\n",
      "weighted avg       0.89      0.91      0.90     15000\n",
      "\n"
     ]
    }
   ],
   "source": [
    "print(classification_report(y_test, new_pred))"
   ]
  },
  {
   "cell_type": "code",
   "execution_count": null,
   "metadata": {},
   "outputs": [],
   "source": []
  }
 ],
 "metadata": {
  "kernelspec": {
   "display_name": "Python (learn-env)",
   "language": "python",
   "name": "learn-env"
  },
  "language_info": {
   "codemirror_mode": {
    "name": "ipython",
    "version": 3
   },
   "file_extension": ".py",
   "mimetype": "text/x-python",
   "name": "python",
   "nbconvert_exporter": "python",
   "pygments_lexer": "ipython3",
   "version": "3.8.5"
  },
  "toc": {
   "base_numbering": 1,
   "nav_menu": {},
   "number_sections": true,
   "sideBar": true,
   "skip_h1_title": false,
   "title_cell": "Table of Contents",
   "title_sidebar": "Contents",
   "toc_cell": false,
   "toc_position": {
    "height": "calc(100% - 180px)",
    "left": "10px",
    "top": "150px",
    "width": "165px"
   },
   "toc_section_display": true,
   "toc_window_display": true
  }
 },
 "nbformat": 4,
 "nbformat_minor": 4
}
